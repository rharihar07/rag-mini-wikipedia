{
 "cells": [
  {
   "cell_type": "markdown",
   "metadata": {},
   "source": [
    "# Importing libraries"
   ]
  },
  {
   "cell_type": "code",
   "execution_count": 1,
   "metadata": {},
   "outputs": [
    {
     "name": "stderr",
     "output_type": "stream",
     "text": [
      "/opt/anaconda3/envs/rag2/lib/python3.13/site-packages/tqdm/auto.py:21: TqdmWarning: IProgress not found. Please update jupyter and ipywidgets. See https://ipywidgets.readthedocs.io/en/stable/user_install.html\n",
      "  from .autonotebook import tqdm as notebook_tqdm\n"
     ]
    }
   ],
   "source": [
    "# Load all required Libraries\n",
    "import os, re, string, warnings, sys\n",
    "from pathlib import Path\n",
    "import pandas as pd\n",
    "import numpy as np\n",
    "import matplotlib.pyplot as plt\n",
    "import transformers, torch\n",
    "from transformers import AutoModelForSeq2SeqLM, AutoTokenizer, AutoModelForCausalLM\n",
    "from datasets import Dataset\n",
    "\n",
    "\n",
    "from pymilvus import MilvusClient, FieldSchema, CollectionSchema, DataType\n",
    "\n",
    "from ragas import evaluate\n",
    "from ragas.metrics import (\n",
    "    faithfulness,\n",
    "    answer_relevancy,\n",
    "    context_recall,\n",
    "    context_precision,\n",
    "    answer_correctness\n",
    ")\n",
    "\n",
    "import tqdm as tqdm\n",
    "from sentence_transformers import SentenceTransformer\n",
    "import nltk\n",
    "\n",
    "sys.path.append(str(Path.cwd().parent / \"src\"))\n",
    "\n",
    "from setup import Setup\n",
    "from evaluation import Evaluation\n",
    "\n",
    "evaluation = Evaluation()\n",
    "\n",
    "setup = Setup()\n",
    "setup.download_nltk_data()\n"
   ]
  },
  {
   "cell_type": "markdown",
   "metadata": {},
   "source": [
    "# Reading and Cleaning data"
   ]
  },
  {
   "cell_type": "code",
   "execution_count": 2,
   "metadata": {},
   "outputs": [
    {
     "name": "stdout",
     "output_type": "stream",
     "text": [
      "(3200, 2)\n"
     ]
    },
    {
     "data": {
      "text/html": [
       "<div>\n",
       "<style scoped>\n",
       "    .dataframe tbody tr th:only-of-type {\n",
       "        vertical-align: middle;\n",
       "    }\n",
       "\n",
       "    .dataframe tbody tr th {\n",
       "        vertical-align: top;\n",
       "    }\n",
       "\n",
       "    .dataframe thead th {\n",
       "        text-align: right;\n",
       "    }\n",
       "</style>\n",
       "<table border=\"1\" class=\"dataframe\">\n",
       "  <thead>\n",
       "    <tr style=\"text-align: right;\">\n",
       "      <th></th>\n",
       "      <th>id</th>\n",
       "      <th>passage</th>\n",
       "      <th>processed_passage_tokens</th>\n",
       "      <th>passage_clean</th>\n",
       "    </tr>\n",
       "  </thead>\n",
       "  <tbody>\n",
       "    <tr>\n",
       "      <th>0</th>\n",
       "      <td>0</td>\n",
       "      <td>Uruguay (official full name in  ; pron.  , Eas...</td>\n",
       "      <td>[uruguay, official, full, name, pron, eastern,...</td>\n",
       "      <td>uruguay official full name pron eastern republ...</td>\n",
       "    </tr>\n",
       "    <tr>\n",
       "      <th>1</th>\n",
       "      <td>1</td>\n",
       "      <td>It is bordered by Brazil to the north, by Arge...</td>\n",
       "      <td>[border, brazil, north, argentina, across, ban...</td>\n",
       "      <td>border brazil north argentina across bank urug...</td>\n",
       "    </tr>\n",
       "    <tr>\n",
       "      <th>2</th>\n",
       "      <td>2</td>\n",
       "      <td>Montevideo was founded by the Spanish in the e...</td>\n",
       "      <td>[montevideo, found, spanish, early, 18th, cent...</td>\n",
       "      <td>montevideo found spanish early 18th century mi...</td>\n",
       "    </tr>\n",
       "    <tr>\n",
       "      <th>3</th>\n",
       "      <td>3</td>\n",
       "      <td>The economy is largely based in agriculture (m...</td>\n",
       "      <td>[economy, largely, base, agriculture, make, 10...</td>\n",
       "      <td>economy largely base agriculture make 10 gdp s...</td>\n",
       "    </tr>\n",
       "    <tr>\n",
       "      <th>4</th>\n",
       "      <td>4</td>\n",
       "      <td>According to Transparency International, Urugu...</td>\n",
       "      <td>[accord, transparency, international, uruguay,...</td>\n",
       "      <td>accord transparency international uruguay seco...</td>\n",
       "    </tr>\n",
       "  </tbody>\n",
       "</table>\n",
       "</div>"
      ],
      "text/plain": [
       "   id                                            passage  \\\n",
       "0   0  Uruguay (official full name in  ; pron.  , Eas...   \n",
       "1   1  It is bordered by Brazil to the north, by Arge...   \n",
       "2   2  Montevideo was founded by the Spanish in the e...   \n",
       "3   3  The economy is largely based in agriculture (m...   \n",
       "4   4  According to Transparency International, Urugu...   \n",
       "\n",
       "                            processed_passage_tokens  \\\n",
       "0  [uruguay, official, full, name, pron, eastern,...   \n",
       "1  [border, brazil, north, argentina, across, ban...   \n",
       "2  [montevideo, found, spanish, early, 18th, cent...   \n",
       "3  [economy, largely, base, agriculture, make, 10...   \n",
       "4  [accord, transparency, international, uruguay,...   \n",
       "\n",
       "                                       passage_clean  \n",
       "0  uruguay official full name pron eastern republ...  \n",
       "1  border brazil north argentina across bank urug...  \n",
       "2  montevideo found spanish early 18th century mi...  \n",
       "3  economy largely base agriculture make 10 gdp s...  \n",
       "4  accord transparency international uruguay seco...  "
      ]
     },
     "execution_count": 2,
     "metadata": {},
     "output_type": "execute_result"
    }
   ],
   "source": [
    "passages = pd.read_parquet(\"hf://datasets/rag-datasets/rag-mini-wikipedia/data/passages.parquet/part.0.parquet\")\n",
    "passages.reset_index(inplace=True)\n",
    "passages.rename(columns={\"index\": \"id\"}, inplace=True)\n",
    "print(passages.shape)\n",
    "passages[\"processed_passage_tokens\"] = passages[\"passage\"].apply(setup.preprocess_text)\n",
    "passages[\"passage_clean\"] = passages[\"processed_passage_tokens\"].apply(lambda toks: \" \".join(toks))\n",
    "passages.head()\n"
   ]
  },
  {
   "cell_type": "markdown",
   "metadata": {},
   "source": [
    "# Creating Embedding"
   ]
  },
  {
   "cell_type": "code",
   "execution_count": 3,
   "metadata": {},
   "outputs": [
    {
     "data": {
      "text/html": [
       "<div>\n",
       "<style scoped>\n",
       "    .dataframe tbody tr th:only-of-type {\n",
       "        vertical-align: middle;\n",
       "    }\n",
       "\n",
       "    .dataframe tbody tr th {\n",
       "        vertical-align: top;\n",
       "    }\n",
       "\n",
       "    .dataframe thead th {\n",
       "        text-align: right;\n",
       "    }\n",
       "</style>\n",
       "<table border=\"1\" class=\"dataframe\">\n",
       "  <thead>\n",
       "    <tr style=\"text-align: right;\">\n",
       "      <th></th>\n",
       "      <th>id</th>\n",
       "      <th>passage</th>\n",
       "      <th>processed_passage_tokens</th>\n",
       "      <th>passage_clean</th>\n",
       "      <th>embedding</th>\n",
       "    </tr>\n",
       "  </thead>\n",
       "  <tbody>\n",
       "    <tr>\n",
       "      <th>0</th>\n",
       "      <td>0</td>\n",
       "      <td>Uruguay (official full name in  ; pron.  , Eas...</td>\n",
       "      <td>[uruguay, official, full, name, pron, eastern,...</td>\n",
       "      <td>uruguay official full name pron eastern republ...</td>\n",
       "      <td>[0.029654771, -0.06880856, -0.057491858, 0.004...</td>\n",
       "    </tr>\n",
       "    <tr>\n",
       "      <th>1</th>\n",
       "      <td>1</td>\n",
       "      <td>It is bordered by Brazil to the north, by Arge...</td>\n",
       "      <td>[border, brazil, north, argentina, across, ban...</td>\n",
       "      <td>border brazil north argentina across bank urug...</td>\n",
       "      <td>[0.07190235, -0.04019017, -0.03857681, -0.0580...</td>\n",
       "    </tr>\n",
       "    <tr>\n",
       "      <th>2</th>\n",
       "      <td>2</td>\n",
       "      <td>Montevideo was founded by the Spanish in the e...</td>\n",
       "      <td>[montevideo, found, spanish, early, 18th, cent...</td>\n",
       "      <td>montevideo found spanish early 18th century mi...</td>\n",
       "      <td>[-0.024355173, -0.068288386, -0.039410222, -0....</td>\n",
       "    </tr>\n",
       "    <tr>\n",
       "      <th>3</th>\n",
       "      <td>3</td>\n",
       "      <td>The economy is largely based in agriculture (m...</td>\n",
       "      <td>[economy, largely, base, agriculture, make, 10...</td>\n",
       "      <td>economy largely base agriculture make 10 gdp s...</td>\n",
       "      <td>[0.019785434, -0.076093115, 0.025713824, 0.023...</td>\n",
       "    </tr>\n",
       "    <tr>\n",
       "      <th>4</th>\n",
       "      <td>4</td>\n",
       "      <td>According to Transparency International, Urugu...</td>\n",
       "      <td>[accord, transparency, international, uruguay,...</td>\n",
       "      <td>accord transparency international uruguay seco...</td>\n",
       "      <td>[0.027133217, -0.08261366, -0.09474878, -0.005...</td>\n",
       "    </tr>\n",
       "  </tbody>\n",
       "</table>\n",
       "</div>"
      ],
      "text/plain": [
       "   id                                            passage  \\\n",
       "0   0  Uruguay (official full name in  ; pron.  , Eas...   \n",
       "1   1  It is bordered by Brazil to the north, by Arge...   \n",
       "2   2  Montevideo was founded by the Spanish in the e...   \n",
       "3   3  The economy is largely based in agriculture (m...   \n",
       "4   4  According to Transparency International, Urugu...   \n",
       "\n",
       "                            processed_passage_tokens  \\\n",
       "0  [uruguay, official, full, name, pron, eastern,...   \n",
       "1  [border, brazil, north, argentina, across, ban...   \n",
       "2  [montevideo, found, spanish, early, 18th, cent...   \n",
       "3  [economy, largely, base, agriculture, make, 10...   \n",
       "4  [accord, transparency, international, uruguay,...   \n",
       "\n",
       "                                       passage_clean  \\\n",
       "0  uruguay official full name pron eastern republ...   \n",
       "1  border brazil north argentina across bank urug...   \n",
       "2  montevideo found spanish early 18th century mi...   \n",
       "3  economy largely base agriculture make 10 gdp s...   \n",
       "4  accord transparency international uruguay seco...   \n",
       "\n",
       "                                           embedding  \n",
       "0  [0.029654771, -0.06880856, -0.057491858, 0.004...  \n",
       "1  [0.07190235, -0.04019017, -0.03857681, -0.0580...  \n",
       "2  [-0.024355173, -0.068288386, -0.039410222, -0....  \n",
       "3  [0.019785434, -0.076093115, 0.025713824, 0.023...  \n",
       "4  [0.027133217, -0.08261366, -0.09474878, -0.005...  "
      ]
     },
     "execution_count": 3,
     "metadata": {},
     "output_type": "execute_result"
    }
   ],
   "source": [
    "embedder = setup.build_embedder(\"all-MiniLM-L6-v2\")\n",
    "passages[\"embedding\"] = (\n",
    "    passages[\"passage_clean\"]\n",
    "    .fillna(\"\")\n",
    "    .astype(str)\n",
    "    .apply(lambda x: embedder.encode(x, normalize_embeddings=True).astype(\"float32\"))\n",
    ")\n",
    "\n",
    "passages.head()"
   ]
  },
  {
   "cell_type": "markdown",
   "metadata": {},
   "source": [
    "# Setting up Milvus Client"
   ]
  },
  {
   "cell_type": "code",
   "execution_count": 4,
   "metadata": {},
   "outputs": [
    {
     "name": "stderr",
     "output_type": "stream",
     "text": [
      "huggingface/tokenizers: The current process just got forked, after parallelism has already been used. Disabling parallelism to avoid deadlocks...\n",
      "To disable this warning, you can either:\n",
      "\t- Avoid using `tokenizers` before the fork if possible\n",
      "\t- Explicitly set the environment variable TOKENIZERS_PARALLELISM=(true | false)\n",
      "2025-10-03 17:00:37,089 [ERROR][handler]: RPC error: [describe_collection], <DescribeCollectionException: (code=100, message=collection not found)>, <Time:{'RPC start': '2025-10-03 17:00:37.087894', 'RPC error': '2025-10-03 17:00:37.089618'}> (decorators.py:140)\n"
     ]
    },
    {
     "name": "stdout",
     "output_type": "stream",
     "text": [
      "{'insert_count': 3200, 'ids': [0, 1, 2, 3, 4, 5, 6, 7, 8, 9, 10, 11, 12, 13, 14, 15, 16, 17, 18, 19, 20, 21, 22, 23, 24, 25, 26, 27, 28, 29, 30, 31, 32, 33, 34, 35, 36, 37, 38, 39, 40, 41, 42, 43, 44, 45, 46, 47, 48, 49, 50, 51, 52, 53, 54, 55, 56, 57, 58, 59, 60, 61, 62, 63, 64, 65, 66, 67, 68, 69, 70, 71, 72, 73, 74, 75, 76, 77, 78, 79, 80, 81, 82, 83, 84, 85, 86, 87, 88, 89, 90, 91, 92, 93, 94, 95, 96, 97, 98, 99, 100, 101, 102, 103, 104, 105, 106, 107, 108, 109, 110, 111, 112, 113, 114, 115, 116, 117, 118, 119, 120, 121, 122, 123, 124, 125, 126, 127, 128, 129, 130, 131, 132, 133, 134, 135, 136, 137, 138, 139, 140, 141, 142, 143, 144, 145, 146, 147, 148, 149, 150, 151, 152, 153, 154, 155, 156, 157, 158, 159, 160, 161, 162, 163, 164, 165, 166, 167, 168, 169, 170, 171, 172, 173, 174, 175, 176, 177, 178, 179, 180, 181, 182, 183, 184, 185, 186, 187, 188, 189, 190, 191, 192, 193, 194, 195, 196, 197, 198, 199, 200, 201, 202, 203, 204, 205, 206, 207, 208, 209, 210, 211, 212, 213, 214, 215, 216, 217, 218, 219, 220, 221, 222, 223, 224, 225, 226, 227, 228, 229, 230, 231, 232, 233, 234, 235, 236, 237, 238, 239, 240, 241, 242, 243, 244, 245, 246, 247, 248, 249, 250, 251, 252, 253, 254, 255, 256, 257, 258, 259, 260, 261, 262, 263, 264, 265, 266, 267, 268, 269, 270, 271, 272, 273, 274, 275, 276, 277, 278, 279, 280, 281, 282, 283, 284, 285, 286, 287, 288, 289, 290, 291, 292, 293, 294, 295, 296, 297, 298, 299, 300, 301, 302, 303, 304, 305, 306, 307, 308, 309, 310, 311, 312, 313, 314, 315, 316, 317, 318, 319, 320, 321, 322, 323, 324, 325, 326, 327, 328, 329, 330, 331, 332, 333, 334, 335, 336, 337, 338, 339, 340, 341, 342, 343, 344, 345, 346, 347, 348, 349, 350, 351, 352, 353, 354, 355, 356, 357, 358, 359, 360, 361, 362, 363, 364, 365, 366, 367, 368, 369, 370, 371, 372, 373, 374, 375, 376, 377, 378, 379, 380, 381, 382, 383, 384, 385, 386, 387, 388, 389, 390, 391, 392, 393, 394, 395, 396, 397, 398, 399, 400, 401, 402, 403, 404, 405, 406, 407, 408, 409, 410, 411, 412, 413, 414, 415, 416, 417, 418, 419, 420, 421, 422, 423, 424, 425, 426, 427, 428, 429, 430, 431, 432, 433, 434, 435, 436, 437, 438, 439, 440, 441, 442, 443, 444, 445, 446, 447, 448, 449, 450, 451, 452, 453, 454, 455, 456, 457, 458, 459, 460, 461, 462, 463, 464, 465, 466, 467, 468, 469, 470, 471, 472, 473, 474, 475, 476, 477, 478, 479, 480, 481, 482, 483, 484, 485, 486, 487, 488, 489, 490, 491, 492, 493, 494, 495, 496, 497, 498, 499, 500, 501, 502, 503, 504, 505, 506, 507, 508, 509, 510, 511, 512, 513, 514, 515, 516, 517, 518, 519, 520, 521, 522, 523, 524, 525, 526, 527, 528, 529, 530, 531, 532, 533, 534, 535, 536, 537, 538, 539, 540, 541, 542, 543, 544, 545, 546, 547, 548, 549, 550, 551, 552, 553, 554, 555, 556, 557, 558, 559, 560, 561, 562, 563, 564, 565, 566, 567, 568, 569, 570, 571, 572, 573, 574, 575, 576, 577, 578, 579, 580, 581, 582, 583, 584, 585, 586, 587, 588, 589, 590, 591, 592, 593, 594, 595, 596, 597, 598, 599, 600, 601, 602, 603, 604, 605, 606, 607, 608, 609, 610, 611, 612, 613, 614, 615, 616, 617, 618, 619, 620, 621, 622, 623, 624, 625, 626, 627, 628, 629, 630, 631, 632, 633, 634, 635, 636, 637, 638, 639, 640, 641, 642, 643, 644, 645, 646, 647, 648, 649, 650, 651, 652, 653, 654, 655, 656, 657, 658, 659, 660, 661, 662, 663, 664, 665, 666, 667, 668, 669, 670, 671, 672, 673, 674, 675, 676, 677, 678, 679, 680, 681, 682, 683, 684, 685, 686, 687, 688, 689, 690, 691, 692, 693, 695, 696, 697, 698, 699, 700, 701, 702, 703, 704, 705, 706, 707, 708, 709, 710, 711, 712, 713, 714, 715, 716, 717, 718, 719, 720, 721, 722, 723, 724, 725, 726, 727, 728, 729, 730, 731, 732, 733, 734, 735, 736, 737, 738, 739, 740, 741, 742, 743, 744, 745, 746, 747, 748, 749, 750, 751, 752, 753, 754, 755, 756, 757, 758, 759, 760, 761, 762, 763, 764, 765, 766, 767, 768, 769, 770, 771, 772, 773, 774, 775, 776, 777, 778, 779, 780, 781, 782, 783, 784, 785, 786, 787, 788, 789, 790, 791, 792, 793, 794, 795, 796, 797, 798, 799, 800, 801, 802, 803, 804, 805, 806, 807, 808, 809, 810, 811, 812, 813, 814, 815, 816, 817, 818, 819, 820, 821, 822, 823, 824, 825, 826, 827, 828, 829, 830, 831, 832, 833, 834, 835, 836, 837, 838, 839, 840, 841, 842, 843, 844, 845, 846, 847, 848, 849, 850, 851, 852, 853, 854, 855, 856, 857, 858, 859, 860, 861, 862, 863, 864, 865, 866, 867, 868, 869, 870, 871, 872, 873, 874, 875, 876, 877, 878, 879, 880, 881, 882, 883, 884, 885, 886, 887, 888, 889, 890, 891, 892, 893, 894, 895, 896, 897, 898, 899, 900, 901, 902, 903, 904, 905, 906, 907, 908, 909, 910, 911, 912, 913, 914, 915, 916, 917, 918, 919, 920, 921, 922, 923, 924, 925, 926, 927, 928, 929, 930, 931, 932, 933, 934, 935, 936, 937, 938, 939, 940, 941, 942, 943, 944, 945, 946, 947, 948, 949, 950, 951, 952, 953, 954, 955, 956, 957, 958, 959, 960, 961, 962, 963, 964, 965, 966, 967, 968, 969, 970, 971, 972, 973, 974, 975, 976, 977, 978, 979, 980, 981, 982, 983, 984, 985, 986, 987, 988, 989, 990, 991, 992, 993, 994, 995, 996, 997, 998, 999, 1000, 1001, 1002, 1003, 1004, 1005, 1006, 1007, 1008, 1009, 1010, 1011, 1012, 1013, 1014, 1015, 1016, 1017, 1018, 1019, 1020, 1021, 1022, 1023, 1024, 1025, 1026, 1027, 1028, 1029, 1030, 1031, 1032, 1033, 1034, 1035, 1036, 1037, 1038, 1039, 1040, 1041, 1042, 1043, 1044, 1045, 1046, 1047, 1048, 1049, 1050, 1051, 1052, 1053, 1054, 1055, 1056, 1057, 1058, 1059, 1060, 1061, 1062, 1063, 1064, 1065, 1066, 1067, 1068, 1069, 1070, 1071, 1072, 1073, 1074, 1075, 1076, 1077, 1078, 1079, 1080, 1081, 1082, 1083, 1084, 1085, 1086, 1087, 1088, 1089, 1090, 1091, 1092, 1093, 1094, 1095, 1096, 1097, 1098, 1099, 1100, 1101, 1102, 1103, 1104, 1105, 1106, 1107, 1108, 1109, 1110, 1111, 1112, 1113, 1114, 1115, 1116, 1117, 1118, 1119, 1120, 1121, 1122, 1123, 1124, 1125, 1126, 1127, 1128, 1129, 1130, 1131, 1132, 1133, 1134, 1135, 1136, 1137, 1138, 1139, 1140, 1141, 1142, 1143, 1144, 1145, 1146, 1147, 1148, 1149, 1150, 1151, 1152, 1153, 1154, 1155, 1156, 1157, 1158, 1159, 1160, 1161, 1162, 1163, 1164, 1165, 1166, 1167, 1168, 1169, 1170, 1171, 1172, 1173, 1174, 1175, 1176, 1177, 1178, 1179, 1180, 1181, 1182, 1183, 1184, 1185, 1186, 1187, 1188, 1189, 1190, 1191, 1192, 1193, 1194, 1195, 1196, 1197, 1198, 1199, 1200, 1201, 1202, 1203, 1204, 1205, 1206, 1207, 1208, 1209, 1210, 1211, 1212, 1213, 1214, 1215, 1216, 1217, 1218, 1219, 1220, 1221, 1222, 1223, 1224, 1225, 1226, 1227, 1228, 1229, 1230, 1231, 1232, 1233, 1234, 1235, 1236, 1237, 1238, 1239, 1240, 1241, 1242, 1243, 1244, 1245, 1246, 1247, 1248, 1249, 1250, 1251, 1252, 1253, 1254, 1255, 1256, 1257, 1258, 1259, 1260, 1261, 1262, 1263, 1264, 1265, 1266, 1267, 1268, 1269, 1270, 1271, 1272, 1273, 1274, 1275, 1276, 1277, 1278, 1279, 1280, 1281, 1282, 1283, 1284, 1285, 1286, 1287, 1288, 1289, 1290, 1291, 1292, 1293, 1294, 1295, 1296, 1297, 1298, 1299, 1300, 1301, 1302, 1303, 1304, 1305, 1306, 1307, 1308, 1309, 1310, 1311, 1312, 1313, 1314, 1315, 1316, 1317, 1318, 1319, 1320, 1321, 1322, 1323, 1324, 1325, 1326, 1327, 1328, 1329, 1330, 1331, 1332, 1333, 1334, 1335, 1336, 1337, 1338, 1339, 1340, 1341, 1342, 1343, 1344, 1345, 1346, 1347, 1348, 1349, 1350, 1351, 1352, 1353, 1354, 1355, 1356, 1357, 1358, 1359, 1360, 1361, 1362, 1363, 1364, 1365, 1366, 1367, 1368, 1369, 1370, 1371, 1372, 1373, 1374, 1375, 1376, 1377, 1378, 1379, 1380, 1381, 1382, 1383, 1384, 1385, 1386, 1387, 1388, 1389, 1390, 1391, 1392, 1393, 1394, 1395, 1396, 1397, 1398, 1399, 1400, 1401, 1402, 1403, 1404, 1405, 1406, 1407, 1408, 1409, 1410, 1411, 1412, 1413, 1414, 1415, 1416, 1417, 1418, 1419, 1420, 1421, 1422, 1423, 1424, 1425, 1426, 1427, 1428, 1429, 1430, 1431, 1432, 1433, 1434, 1435, 1436, 1437, 1438, 1439, 1440, 1441, 1442, 1443, 1444, 1445, 1446, 1447, 1448, 1449, 1450, 1451, 1452, 1453, 1454, 1455, 1456, 1457, 1458, 1459, 1460, 1461, 1462, 1463, 1464, 1465, 1466, 1467, 1468, 1469, 1470, 1471, 1472, 1473, 1474, 1475, 1476, 1477, 1478, 1479, 1480, 1481, 1482, 1483, 1484, 1485, 1486, 1487, 1488, 1489, 1490, 1491, 1492, 1493, 1494, 1495, 1496, 1497, 1498, 1499, 1500, 1501, 1502, 1503, 1504, 1505, 1506, 1507, 1508, 1509, 1510, 1511, 1512, 1513, 1514, 1515, 1516, 1517, 1518, 1519, 1520, 1521, 1522, 1523, 1524, 1525, 1526, 1527, 1528, 1529, 1530, 1531, 1532, 1533, 1534, 1535, 1536, 1537, 1538, 1539, 1540, 1541, 1542, 1543, 1544, 1545, 1546, 1547, 1548, 1549, 1550, 1551, 1552, 1553, 1554, 1555, 1556, 1557, 1558, 1559, 1560, 1561, 1562, 1563, 1564, 1565, 1566, 1567, 1568, 1569, 1570, 1571, 1572, 1573, 1574, 1575, 1576, 1577, 1578, 1579, 1580, 1581, 1582, 1583, 1584, 1585, 1586, 1587, 1588, 1589, 1590, 1591, 1592, 1593, 1594, 1595, 1596, 1597, 1598, 1599, 1600, 1601, 1602, 1603, 1604, 1605, 1606, 1607, 1608, 1609, 1610, 1611, 1612, 1613, 1614, 1615, 1616, 1617, 1618, 1619, 1620, 1621, 1622, 1623, 1624, 1625, 1626, 1627, 1628, 1629, 1630, 1631, 1632, 1633, 1634, 1635, 1636, 1637, 1638, 1639, 1640, 1641, 1642, 1643, 1644, 1645, 1646, 1647, 1648, 1649, 1650, 1651, 1652, 1653, 1654, 1655, 1656, 1657, 1658, 1659, 1660, 1661, 1662, 1663, 1664, 1665, 1666, 1667, 1668, 1669, 1670, 1671, 1672, 1673, 1674, 1675, 1676, 1677, 1678, 1679, 1680, 1681, 1682, 1683, 1684, 1685, 1686, 1687, 1688, 1689, 1690, 1691, 1692, 1693, 1694, 1695, 1696, 1697, 1698, 1699, 1700, 1701, 1702, 1703, 1704, 1705, 1706, 1707, 1708, 1709, 1710, 1711, 1712, 1713, 1714, 1715, 1716, 1717, 1718, 1719, 1720, 1721, 1722, 1723, 1724, 1725, 1726, 1727, 1728, 1729, 1730, 1731, 1732, 1733, 1734, 1735, 1736, 1737, 1738, 1739, 1740, 1741, 1742, 1743, 1744, 1745, 1746, 1747, 1748, 1749, 1750, 1751, 1752, 1753, 1754, 1755, 1756, 1757, 1758, 1759, 1760, 1761, 1762, 1763, 1764, 1765, 1766, 1767, 1768, 1769, 1770, 1771, 1772, 1773, 1774, 1775, 1776, 1777, 1778, 1779, 1780, 1781, 1782, 1783, 1784, 1785, 1786, 1787, 1788, 1789, 1790, 1791, 1792, 1793, 1794, 1795, 1796, 1797, 1798, 1799, 1800, 1801, 1802, 1803, 1804, 1805, 1806, 1807, 1808, 1809, 1810, 1811, 1812, 1813, 1814, 1815, 1816, 1817, 1818, 1819, 1820, 1821, 1822, 1823, 1824, 1825, 1826, 1827, 1828, 1829, 1830, 1831, 1832, 1833, 1834, 1835, 1836, 1837, 1838, 1839, 1840, 1841, 1842, 1843, 1844, 1845, 1846, 1847, 1848, 1849, 1850, 1851, 1852, 1853, 1854, 1855, 1856, 1857, 1858, 1859, 1860, 1861, 1862, 1863, 1864, 1865, 1866, 1867, 1868, 1869, 1870, 1871, 1872, 1873, 1874, 1875, 1876, 1877, 1878, 1879, 1880, 1881, 1882, 1883, 1884, 1885, 1886, 1887, 1888, 1889, 1890, 1891, 1892, 1893, 1894, 1895, 1896, 1897, 1898, 1899, 1900, 1901, 1902, 1903, 1904, 1905, 1906, 1907, 1908, 1909, 1910, 1911, 1912, 1913, 1914, 1915, 1916, 1917, 1918, 1919, 1920, 1921, 1922, 1923, 1924, 1925, 1926, 1927, 1928, 1929, 1930, 1931, 1932, 1933, 1934, 1935, 1936, 1937, 1938, 1939, 1940, 1941, 1942, 1943, 1944, 1945, 1946, 1947, 1948, 1949, 1950, 1951, 1952, 1953, 1954, 1955, 1956, 1957, 1958, 1959, 1960, 1961, 1962, 1963, 1964, 1965, 1966, 1967, 1968, 1969, 1970, 1971, 1972, 1973, 1974, 1975, 1976, 1977, 1978, 1979, 1980, 1981, 1982, 1983, 1984, 1985, 1986, 1987, 1988, 1989, 1990, 1991, 1992, 1993, 1994, 1995, 1996, 1997, 1998, 1999, 2000, 2001, 2002, 2003, 2004, 2005, 2006, 2007, 2008, 2009, 2010, 2011, 2012, 2013, 2014, 2015, 2016, 2017, 2018, 2019, 2020, 2021, 2022, 2023, 2024, 2025, 2026, 2027, 2028, 2029, 2030, 2031, 2032, 2033, 2034, 2035, 2036, 2037, 2038, 2039, 2040, 2041, 2042, 2043, 2044, 2045, 2046, 2047, 2048, 2049, 2050, 2051, 2052, 2053, 2054, 2055, 2056, 2057, 2058, 2059, 2060, 2061, 2062, 2063, 2064, 2065, 2066, 2067, 2068, 2069, 2070, 2071, 2072, 2073, 2074, 2075, 2076, 2077, 2078, 2079, 2080, 2081, 2082, 2083, 2084, 2085, 2086, 2087, 2088, 2089, 2090, 2091, 2092, 2093, 2094, 2095, 2096, 2097, 2098, 2099, 2100, 2101, 2102, 2103, 2104, 2105, 2106, 2107, 2108, 2109, 2110, 2111, 2112, 2113, 2114, 2115, 2116, 2117, 2118, 2119, 2120, 2121, 2122, 2123, 2124, 2125, 2126, 2127, 2128, 2129, 2130, 2131, 2132, 2133, 2134, 2135, 2136, 2137, 2138, 2139, 2140, 2141, 2142, 2143, 2144, 2145, 2146, 2147, 2148, 2149, 2150, 2151, 2152, 2153, 2154, 2155, 2156, 2157, 2158, 2159, 2160, 2161, 2162, 2163, 2164, 2165, 2166, 2167, 2168, 2169, 2170, 2171, 2172, 2173, 2174, 2175, 2176, 2177, 2178, 2179, 2180, 2181, 2182, 2183, 2184, 2185, 2186, 2187, 2188, 2189, 2190, 2191, 2192, 2193, 2194, 2195, 2196, 2197, 2198, 2199, 2200, 2201, 2202, 2203, 2204, 2205, 2206, 2207, 2208, 2209, 2210, 2211, 2212, 2213, 2214, 2215, 2216, 2217, 2218, 2219, 2220, 2221, 2222, 2223, 2224, 2225, 2226, 2227, 2228, 2229, 2230, 2231, 2232, 2233, 2234, 2235, 2236, 2237, 2238, 2239, 2240, 2241, 2242, 2243, 2244, 2245, 2246, 2247, 2248, 2249, 2250, 2251, 2252, 2253, 2254, 2255, 2256, 2257, 2258, 2259, 2260, 2261, 2262, 2263, 2264, 2265, 2266, 2267, 2268, 2269, 2270, 2271, 2272, 2273, 2274, 2275, 2276, 2277, 2278, 2279, 2280, 2281, 2282, 2283, 2284, 2285, 2286, 2287, 2288, 2289, 2290, 2291, 2292, 2293, 2294, 2295, 2296, 2297, 2298, 2299, 2300, 2301, 2302, 2303, 2304, 2305, 2306, 2307, 2308, 2309, 2310, 2311, 2312, 2313, 2314, 2315, 2316, 2317, 2318, 2319, 2320, 2321, 2322, 2323, 2324, 2325, 2326, 2327, 2328, 2329, 2330, 2331, 2332, 2333, 2334, 2335, 2336, 2337, 2338, 2339, 2340, 2341, 2342, 2343, 2344, 2345, 2346, 2347, 2348, 2349, 2350, 2351, 2352, 2353, 2354, 2355, 2356, 2357, 2358, 2359, 2360, 2361, 2362, 2363, 2364, 2365, 2366, 2367, 2368, 2369, 2370, 2371, 2372, 2373, 2374, 2375, 2376, 2377, 2378, 2379, 2380, 2381, 2382, 2383, 2384, 2385, 2386, 2387, 2388, 2389, 2390, 2391, 2392, 2393, 2394, 2395, 2396, 2397, 2398, 2399, 2400, 2401, 2402, 2403, 2404, 2405, 2406, 2407, 2408, 2409, 2410, 2411, 2412, 2413, 2414, 2415, 2416, 2417, 2418, 2419, 2420, 2421, 2422, 2423, 2424, 2425, 2426, 2427, 2428, 2429, 2430, 2431, 2432, 2433, 2434, 2435, 2436, 2437, 2438, 2439, 2440, 2441, 2442, 2443, 2444, 2445, 2446, 2447, 2448, 2449, 2450, 2451, 2452, 2453, 2454, 2455, 2456, 2457, 2458, 2459, 2460, 2461, 2462, 2463, 2464, 2465, 2466, 2467, 2468, 2469, 2470, 2471, 2472, 2473, 2474, 2475, 2476, 2477, 2478, 2479, 2480, 2481, 2482, 2483, 2484, 2485, 2486, 2487, 2488, 2489, 2490, 2491, 2492, 2493, 2494, 2495, 2496, 2497, 2498, 2499, 2500, 2501, 2502, 2503, 2504, 2505, 2506, 2507, 2508, 2509, 2510, 2511, 2512, 2513, 2514, 2515, 2516, 2517, 2518, 2519, 2520, 2521, 2522, 2523, 2524, 2525, 2526, 2527, 2528, 2529, 2530, 2531, 2532, 2533, 2534, 2535, 2536, 2537, 2538, 2539, 2540, 2541, 2542, 2543, 2544, 2545, 2546, 2547, 2548, 2549, 2550, 2551, 2552, 2553, 2554, 2555, 2556, 2557, 2558, 2559, 2560, 2561, 2562, 2563, 2564, 2565, 2566, 2567, 2568, 2569, 2570, 2571, 2572, 2573, 2574, 2575, 2576, 2577, 2578, 2579, 2580, 2581, 2582, 2583, 2584, 2585, 2586, 2587, 2588, 2589, 2590, 2591, 2592, 2593, 2594, 2595, 2596, 2597, 2598, 2599, 2600, 2601, 2602, 2603, 2604, 2605, 2606, 2607, 2608, 2609, 2610, 2611, 2612, 2613, 2614, 2615, 2616, 2617, 2618, 2619, 2620, 2621, 2622, 2623, 2624, 2625, 2626, 2627, 2628, 2629, 2630, 2631, 2632, 2633, 2634, 2635, 2636, 2637, 2638, 2639, 2640, 2641, 2642, 2643, 2644, 2645, 2646, 2647, 2648, 2649, 2650, 2651, 2652, 2653, 2654, 2655, 2656, 2657, 2658, 2659, 2660, 2661, 2662, 2663, 2664, 2665, 2666, 2667, 2668, 2669, 2670, 2671, 2672, 2673, 2674, 2675, 2676, 2677, 2678, 2679, 2680, 2681, 2682, 2683, 2684, 2685, 2686, 2687, 2688, 2689, 2690, 2691, 2692, 2693, 2694, 2695, 2696, 2697, 2698, 2699, 2700, 2701, 2702, 2703, 2704, 2705, 2706, 2707, 2708, 2709, 2710, 2711, 2712, 2713, 2714, 2715, 2716, 2717, 2718, 2719, 2720, 2721, 2722, 2723, 2724, 2725, 2726, 2727, 2728, 2729, 2730, 2731, 2732, 2733, 2734, 2735, 2736, 2737, 2738, 2739, 2740, 2741, 2742, 2743, 2744, 2745, 2746, 2747, 2748, 2749, 2750, 2751, 2752, 2753, 2754, 2755, 2756, 2757, 2758, 2759, 2760, 2761, 2762, 2763, 2764, 2765, 2766, 2767, 2768, 2769, 2770, 2771, 2772, 2773, 2774, 2775, 2776, 2777, 2778, 2779, 2780, 2781, 2782, 2783, 2784, 2785, 2786, 2787, 2788, 2789, 2790, 2791, 2792, 2793, 2794, 2795, 2796, 2797, 2798, 2799, 2800, 2801, 2802, 2803, 2804, 2805, 2806, 2807, 2808, 2809, 2810, 2811, 2812, 2813, 2814, 2815, 2816, 2817, 2818, 2819, 2820, 2821, 2822, 2823, 2824, 2825, 2826, 2827, 2828, 2829, 2830, 2831, 2832, 2833, 2834, 2835, 2836, 2837, 2838, 2839, 2840, 2841, 2842, 2843, 2844, 2845, 2846, 2847, 2848, 2849, 2850, 2851, 2852, 2853, 2854, 2855, 2856, 2857, 2858, 2859, 2860, 2861, 2862, 2863, 2864, 2865, 2866, 2867, 2868, 2869, 2870, 2871, 2872, 2873, 2874, 2875, 2876, 2877, 2878, 2879, 2880, 2881, 2882, 2883, 2884, 2885, 2886, 2887, 2888, 2889, 2890, 2891, 2892, 2893, 2894, 2895, 2896, 2897, 2898, 2899, 2900, 2901, 2902, 2903, 2904, 2905, 2906, 2907, 2908, 2909, 2910, 2911, 2912, 2913, 2914, 2915, 2916, 2917, 2918, 2919, 2920, 2921, 2922, 2923, 2924, 2925, 2926, 2927, 2928, 2929, 2930, 2931, 2932, 2933, 2934, 2935, 2936, 2937, 2938, 2939, 2940, 2941, 2942, 2943, 2944, 2945, 2946, 2947, 2948, 2949, 2950, 2951, 2952, 2953, 2954, 2955, 2956, 2957, 2958, 2959, 2960, 2961, 2962, 2963, 2964, 2965, 2966, 2967, 2968, 2969, 2970, 2971, 2972, 2973, 2974, 2975, 2976, 2977, 2978, 2979, 2980, 2981, 2982, 2983, 2984, 2985, 2986, 2987, 2988, 2989, 2990, 2991, 2992, 2993, 2994, 2995, 2996, 2997, 2998, 2999, 3000, 3001, 3002, 3003, 3004, 3005, 3006, 3007, 3008, 3009, 3010, 3011, 3012, 3013, 3014, 3015, 3016, 3017, 3018, 3019, 3020, 3021, 3022, 3023, 3024, 3025, 3026, 3027, 3028, 3029, 3030, 3031, 3032, 3033, 3034, 3035, 3036, 3037, 3038, 3039, 3040, 3041, 3042, 3043, 3044, 3045, 3046, 3047, 3048, 3049, 3050, 3051, 3052, 3053, 3054, 3055, 3056, 3057, 3058, 3059, 3060, 3061, 3062, 3063, 3064, 3065, 3066, 3067, 3068, 3069, 3070, 3071, 3072, 3073, 3074, 3075, 3076, 3077, 3078, 3079, 3080, 3081, 3082, 3083, 3084, 3085, 3086, 3087, 3088, 3089, 3090, 3091, 3092, 3093, 3094, 3095, 3096, 3097, 3098, 3099, 3100, 3101, 3102, 3103, 3104, 3105, 3106, 3107, 3108, 3109, 3110, 3111, 3112, 3113, 3114, 3115, 3116, 3117, 3118, 3119, 3120, 3121, 3122, 3123, 3124, 3125, 3126, 3127, 3128, 3129, 3130, 3131, 3132, 3133, 3134, 3135, 3136, 3137, 3138, 3139, 3140, 3141, 3142, 3143, 3144, 3145, 3146, 3147, 3148, 3149, 3150, 3151, 3152, 3153, 3154, 3155, 3156, 3157, 3158, 3159, 3160, 3161, 3162, 3163, 3164, 3165, 3166, 3167, 3168, 3169, 3170, 3171, 3172, 3173, 3174, 3175, 3176, 3177, 3178, 3179, 3180, 3181, 3182, 3183, 3184, 3185, 3186, 3187, 3188, 3189, 3190, 3191, 3192, 3193, 3194, 3195, 3196, 3197, 3198, 3199, 3200]}\n"
     ]
    }
   ],
   "source": [
    "\n",
    "client = setup.init_milvus(\n",
    "    db_path=\"rag_wikipedia_mini_5.db\",\n",
    "    collection_name=\"rag_mini\",\n",
    "    dim=384,\n",
    "    max_length=8000,\n",
    ")\n",
    "\n",
    "\n",
    "rag_data = passages[[\"id\", \"passage\", \"embedding\"]].to_dict(orient=\"records\")\n",
    "res = client.insert(collection_name=\"rag_mini\", data=rag_data)\n",
    "print(res)"
   ]
  },
  {
   "cell_type": "code",
   "execution_count": 5,
   "metadata": {},
   "outputs": [
    {
     "name": "stdout",
     "output_type": "stream",
     "text": [
      "Entity count: 3200\n",
      "Collection schema: {'collection_name': 'rag_mini', 'auto_id': False, 'num_shards': 0, 'description': '', 'fields': [{'field_id': 100, 'name': 'id', 'description': '', 'type': <DataType.INT64: 5>, 'params': {}, 'is_primary': True}, {'field_id': 101, 'name': 'passage', 'description': '', 'type': <DataType.VARCHAR: 21>, 'params': {'max_length': 8000}}, {'field_id': 102, 'name': 'embedding', 'description': '', 'type': <DataType.FLOAT_VECTOR: 101>, 'params': {'dim': 384}}], 'functions': [], 'aliases': [], 'collection_id': 0, 'consistency_level': 0, 'properties': {}, 'num_partitions': 0, 'enable_dynamic_field': False}\n"
     ]
    }
   ],
   "source": [
    "print(\"Entity count:\", client.get_collection_stats(\"rag_mini\")[\"row_count\"])\n",
    "print(\"Collection schema:\", client.describe_collection(\"rag_mini\"))"
   ]
  },
  {
   "cell_type": "markdown",
   "metadata": {},
   "source": [
    "# Fetch Results"
   ]
  },
  {
   "cell_type": "code",
   "execution_count": 6,
   "metadata": {},
   "outputs": [
    {
     "data": {
      "text/html": [
       "<div>\n",
       "<style scoped>\n",
       "    .dataframe tbody tr th:only-of-type {\n",
       "        vertical-align: middle;\n",
       "    }\n",
       "\n",
       "    .dataframe tbody tr th {\n",
       "        vertical-align: top;\n",
       "    }\n",
       "\n",
       "    .dataframe thead th {\n",
       "        text-align: right;\n",
       "    }\n",
       "</style>\n",
       "<table border=\"1\" class=\"dataframe\">\n",
       "  <thead>\n",
       "    <tr style=\"text-align: right;\">\n",
       "      <th></th>\n",
       "      <th>id</th>\n",
       "      <th>question</th>\n",
       "      <th>answer</th>\n",
       "    </tr>\n",
       "  </thead>\n",
       "  <tbody>\n",
       "    <tr>\n",
       "      <th>0</th>\n",
       "      <td>0</td>\n",
       "      <td>Was Abraham Lincoln the sixteenth President of...</td>\n",
       "      <td>yes</td>\n",
       "    </tr>\n",
       "    <tr>\n",
       "      <th>1</th>\n",
       "      <td>2</td>\n",
       "      <td>Did Lincoln sign the National Banking Act of 1...</td>\n",
       "      <td>yes</td>\n",
       "    </tr>\n",
       "    <tr>\n",
       "      <th>2</th>\n",
       "      <td>4</td>\n",
       "      <td>Did his mother die of pneumonia?</td>\n",
       "      <td>no</td>\n",
       "    </tr>\n",
       "    <tr>\n",
       "      <th>3</th>\n",
       "      <td>6</td>\n",
       "      <td>How many long was Lincoln's formal education?</td>\n",
       "      <td>18 months</td>\n",
       "    </tr>\n",
       "    <tr>\n",
       "      <th>4</th>\n",
       "      <td>8</td>\n",
       "      <td>When did Lincoln begin his political career?</td>\n",
       "      <td>1832</td>\n",
       "    </tr>\n",
       "  </tbody>\n",
       "</table>\n",
       "</div>"
      ],
      "text/plain": [
       "   id                                           question     answer\n",
       "0   0  Was Abraham Lincoln the sixteenth President of...        yes\n",
       "1   2  Did Lincoln sign the National Banking Act of 1...        yes\n",
       "2   4                   Did his mother die of pneumonia?         no\n",
       "3   6      How many long was Lincoln's formal education?  18 months\n",
       "4   8       When did Lincoln begin his political career?       1832"
      ]
     },
     "execution_count": 6,
     "metadata": {},
     "output_type": "execute_result"
    }
   ],
   "source": [
    "queries = pd.read_parquet(\"hf://datasets/rag-datasets/rag-mini-wikipedia/data/test.parquet/part.0.parquet\")\n",
    "queries.reset_index(inplace=True)\n",
    "queries.rename(columns={\"index\": \"id\"}, inplace=True)\n",
    "queries.head()"
   ]
  },
  {
   "cell_type": "code",
   "execution_count": 7,
   "metadata": {},
   "outputs": [],
   "source": [
    "setup.create_milvus_index(client, \"rag_mini\")"
   ]
  },
  {
   "cell_type": "code",
   "execution_count": 8,
   "metadata": {},
   "outputs": [
    {
     "name": "stdout",
     "output_type": "stream",
     "text": [
      "abraham lincoln sixteenth president united state\n",
      "(384,)\n"
     ]
    }
   ],
   "source": [
    "query = queries['question'][0]\n",
    "clean_query = setup.preprocess_text(query)\n",
    "clean_query = \" \".join(clean_query)\n",
    "print(clean_query)              \n",
    "\n",
    "query_embedding = embedder.encode(query, normalize_embeddings=True).astype(\"float32\")   \n",
    "\n",
    "print(query_embedding.shape)"
   ]
  },
  {
   "cell_type": "code",
   "execution_count": 9,
   "metadata": {},
   "outputs": [
    {
     "name": "stdout",
     "output_type": "stream",
     "text": [
      "data: [[{'id': 288, 'distance': 0.5809625387191772, 'entity': {'id': 288, 'passage': 'Young Abraham Lincoln'}}, {'id': 698, 'distance': 0.8376563787460327, 'entity': {'id': 698, 'passage': 'Sixteen months before his death, his son, John Quincy Adams, became the sixth President of the United States (1825 1829), the only son of a former President to hold the office until George W. Bush in 2001.'}}, {'id': 319, 'distance': 0.8432263135910034, 'entity': {'id': 319, 'passage': 'On November 6, 1860, Lincoln was elected as the 16th President of the United States, beating Democrat Stephen A. Douglas, John C. Breckinridge of the Southern Democrats, and John Bell of the new Constitutional Union Party. He was the first Republican president, winning entirely on the strength of his support in the North: he was not even on the ballot in nine states in the South, and won only 2 of 996 counties in the other Southern states. Lincoln gained 1,865,908 votes (39.9% of the total), for 180 electoral votes; Douglas, 1,380,202 (29.5%) for 12 electoral votes; Breckenridge, 848,019 (18.1%) for 72 electoral votes; and Bell, 590,901 (12.5%) for 39 electoral votes. There were fusion tickets in some states, but even if his opponents had combined in every state, Lincoln had a majority vote in all but two of the states in which he won the electoral votes and would still have won the electoral college and the election.'}}, {'id': 473, 'distance': 0.8767678737640381, 'entity': {'id': 473, 'passage': 'Stephen Grover Cleveland (March 18 1837   June 24 1908), the twenty-second and twenty-fourth President of the United States, was the only President to serve non-consecutive terms (1885 1889 and 1893 1897). He was defeated for reelection in 1888 by Benjamin Harrison, against whom he ran again in 1892 and won a second term. He was the only Democrat elected to the Presidency in the era of Republican political domination between 1860 and 1912, after the American Civil War. His admirers praise him for his bedrock honesty, independence, integrity, and commitment to the principles of classical liberalism. As a leader of the Bourbon Democrats, he opposed imperialism, taxes, corruption, patronage, subsidies and inflationary policies.'}}, {'id': 148, 'distance': 0.9025524258613586, 'entity': {'id': 148, 'passage': \"Millard Fillmore (January 7, 1800   March 8, 1874) was the thirteenth President of the United States, serving from 1850 until 1853, and the last member of the Whig Party to hold that office. He was the second Vice President to assume the Presidency upon the death of a sitting President, succeeding Zachary Taylor who died of acute gastroenteritis. Fillmore was never elected President; after serving out Taylor's term, he failed to gain the nomination for the Presidency of the Whigs in the 1852 presidential election, and, four years later, in the 1856 presidential election, he again failed to win election as President as the Know Nothing Party and Whig candidate.\"}}, {'id': 278, 'distance': 0.9145002365112305, 'entity': {'id': 278, 'passage': 'Abraham Lincoln (February 12, 1809 â\\x80\\x93 April 15, 1865) was the sixteenth President of the United States, serving from March 4, 1861 until his assassination. As an outspoken opponent of the expansion of slavery in the United States, \"[I]n his short autobiography written for the 1860 presidential campaign, Lincoln would describe his protest in the Illinois legislature as one that \\'briefly defined his position on the slavery question, and so far as it goes, it was then the same that it is now.\" This was in reference to the anti-expansion sentiments he had then expressed. Doris Kearns Goodwin, Team of Rivals: The Political Genius of Abraham Lincoln (2005) p. 91.  Holzer pg. 232.  Writing of the Cooper Union  speech, Holzer notes, \"Cooper Union proved a unique confluence of political culture, rhetorical opportunity, technological innovation, and human genius, and it brought Abraham Lincoln to the center stage of American politics at precisely the right time and place, and with precisely the right message: that slavery was wrong, and ought to be confined to the areas where it already existed, and placed on the \\'course of ultimate extinction... .\\'\"  Lincoln won the Republican Party nomination in 1860 and was elected president later that year. During his term, he helped preserve the United States by leading the defeat of the secessionist Confederate States of America in the American Civil War. He introduced measures that resulted in the abolition of slavery, issuing his Emancipation Proclamation in 1863 and promoting the passage of the Thirteenth Amendment to the Constitution in 1865.'}}, {'id': 2228, 'distance': 0.9311040043830872, 'entity': {'id': 2228, 'passage': '* His earliest memory, from age 3, was of hearing that Abraham Lincoln had been elected and that a war was coming.'}}, {'id': 329, 'distance': 0.9313244223594666, 'entity': {'id': 329, 'passage': 'Lincoln met with his cabinet for the first reading of the Emancipation Proclamation draft on July 22, 1862. L-R: Edwin M. Stanton, Salmon P. Chase, Abraham Lincoln, Gideon Welles, Caleb B. Smith, William H. Seward, Montgomery Blair and Edward Bates'}}, {'id': 378, 'distance': 0.9596621990203857, 'entity': {'id': 378, 'passage': 'As Lincoln matured, and especially during his term as president, the idea of a divine will somehow interacting with human affairs more and more influenced his public expressions. On a personal level, the death of his son Willie in February 1862 may have caused Lincoln to look towards religion for answers and solace. Wilson pg. 251-254  After Willieâ\\x80\\x99s death, in the summer or early fall of 1862, Lincoln attempted to put on paper his private musings on why, from a divine standpoint, the severity of the war was necessary:'}}, {'id': 2129, 'distance': 0.9694564342498779, 'entity': {'id': 2129, 'passage': 'Thomas Woodrow Wilson (December 28, 1856â\\x80\\x93February 3, 1924), was the twenty-eighth President of the United States. A devout Presbyterian and leading \"intellectual\" of the Progressive Era, he served as president of Princeton University then became the reform governor of New Jersey in 1910. With Theodore Roosevelt and William Howard Taft dividing the Republican vote, Wilson was elected President as a Democrat in 1912. He proved highly successful in leading a Democratic Congress to pass major legislation including the Federal Trade Commission, the Clayton Antitrust Act, the Underwood Tariff, the Federal Farm Loan Act and most notably the Federal Reserve System.'}}]]\n"
     ]
    }
   ],
   "source": [
    "output_ = client.search(\n",
    "    collection_name=\"rag_mini\",\n",
    "    data=[query_embedding],\n",
    "    anns_field= \"embedding\",\n",
    "    search_params={\"metric_type\": \"L2\", \"params\": {\"nprobe\": 10}},\n",
    "    output_fields=[\"id\", \"passage\"],\n",
    "    limit=10\n",
    ")\n",
    "\n",
    "print(output_)"
   ]
  },
  {
   "cell_type": "code",
   "execution_count": 10,
   "metadata": {},
   "outputs": [
    {
     "name": "stdout",
     "output_type": "stream",
     "text": [
      "Young Abraham Lincoln\n"
     ]
    }
   ],
   "source": [
    "context = output_[0][0].entity.get(\"passage\")\n",
    "print(context)"
   ]
  },
  {
   "cell_type": "markdown",
   "metadata": {},
   "source": [
    "# Getting answers using Chain of Thought"
   ]
  },
  {
   "cell_type": "code",
   "execution_count": 11,
   "metadata": {},
   "outputs": [
    {
     "name": "stderr",
     "output_type": "stream",
     "text": [
      "Processing queries: 100%|██████████| 918/918 [04:00<00:00,  3.82it/s]\n"
     ]
    },
    {
     "name": "stdout",
     "output_type": "stream",
     "text": [
      "{'exact_match': 19.498910675381264, 'f1': 26.749529953805325}\n"
     ]
    }
   ],
   "source": [
    "queries_cot = pd.read_parquet(\"hf://datasets/rag-datasets/rag-mini-wikipedia/data/test.parquet/part.0.parquet\")\n",
    "queries_cot.reset_index(inplace=True)\n",
    "queries_cot.rename(columns={\"index\": \"id\"}, inplace=True)\n",
    "queries_cot['answer_generated'] = ''\n",
    "queries_cot['context'] = list([] for _ in range(len(queries)))\n",
    "\n",
    "\n",
    "# from transformers import AutoTokenizer, AutoModelForSeq2SeqLM\n",
    "# tokenizer = AutoTokenizer.from_pretrained(\"google/flan-t5-base\")\n",
    "# model = AutoModelForSeq2SeqLM.from_pretrained(\"google/flan-t5-base\")\n",
    "tokenizer, model = setup.build_llm(\"google/flan-t5-small\")\n",
    "\n",
    "# Process each question\n",
    "for idx in tqdm.tqdm(range(len(queries_cot)), desc=\"Processing queries\"):\n",
    "    query = queries_cot['question'].iloc[idx]\n",
    "    clean_query = setup.preprocess_text(query)\n",
    "    clean_query = \" \".join(clean_query)\n",
    "    \n",
    "    # Get query embedding\n",
    "    query_embedding = embedder.encode(clean_query, normalize_embeddings=True).astype(\"float32\")   \n",
    "    \n",
    "    # Search the database\n",
    "    output_ = client.search(\n",
    "        collection_name=\"rag_mini\",\n",
    "        data=[query_embedding],\n",
    "        anns_field=\"embedding\",\n",
    "        search_params={\"metric_type\": \"L2\", \"params\": {\"nprobe\": 10}},\n",
    "        output_fields=[\"id\", \"passage\"],\n",
    "        limit=5\n",
    "    )\n",
    "    \n",
    "    # Extract context from search results\n",
    "    context = \"\"\n",
    "    if output_ and len(output_[0]) > 0:\n",
    "        # Get context from the top result\n",
    "        n = min(5, len(output_[0]))\n",
    "        for i in range(n):\n",
    "            #print(output_)\n",
    "            c = output_[0][i].entity.get(\"passage\", \"\")\n",
    "            context += \" \" + c\n",
    "        queries_cot.iloc[idx, queries_cot.columns.get_loc('context')].append(context)    \n",
    "    # Create prompt\n",
    "    system_prompt = \"You are solving a question using provided context only. Think through the problem internally and do NOT reveal your intermediate reasoning. Return only the final answer and a brief, evidence-based justification.\"\n",
    "    prompt = f\"{system_prompt} \\n Context: {context} \\n Question: {query}\"\n",
    "    \n",
    "    # Generate answer\n",
    "    inputs = tokenizer(prompt, return_tensors=\"pt\", max_length=512, truncation=True)\n",
    "    outputs = model.generate(**inputs, max_new_tokens=50)\n",
    "    answer = tokenizer.decode(outputs[0], skip_special_tokens=True)\n",
    "    \n",
    "    # Save answer to dataframe\n",
    "    queries_cot.iloc[idx, queries_cot.columns.get_loc('answer_generated')] = answer.lower() \n",
    "\n",
    "# Save the updated dataframe\n",
    "\n",
    "\n",
    "scores_cot = Evaluation.score(queries_cot, id_col=\"id\", pred_col=\"answer_generated\", ref_col=\"answer\")\n",
    "print(scores_cot)"
   ]
  },
  {
   "cell_type": "markdown",
   "metadata": {},
   "source": [
    "# Getting answers using Persona Prompting"
   ]
  },
  {
   "cell_type": "code",
   "execution_count": 12,
   "metadata": {},
   "outputs": [
    {
     "name": "stderr",
     "output_type": "stream",
     "text": [
      "Processing queries: 100%|██████████| 918/918 [03:08<00:00,  4.86it/s]\n"
     ]
    },
    {
     "name": "stdout",
     "output_type": "stream",
     "text": [
      "{'exact_match': 26.688453159041394, 'f1': 32.85423617443256}\n"
     ]
    }
   ],
   "source": [
    "queries_pp = pd.read_parquet(\"hf://datasets/rag-datasets/rag-mini-wikipedia/data/test.parquet/part.0.parquet\")\n",
    "queries_pp.reset_index(inplace=True)\n",
    "queries_pp.rename(columns={\"index\": \"id\"}, inplace=True)\n",
    "queries_pp['answer_generated'] = ''\n",
    "queries_pp['context'] = list([] for _ in range(len(queries)))\n",
    "\n",
    "\n",
    "# from transformers import AutoTokenizer, AutoModelForSeq2SeqLM\n",
    "# tokenizer = AutoTokenizer.from_pretrained(\"google/flan-t5-base\")\n",
    "# model = AutoModelForSeq2SeqLM.from_pretrained(\"google/flan-t5-base\")\n",
    "tokenizer, model = setup.build_llm(\"google/flan-t5-small\")\n",
    "\n",
    "# Process each question\n",
    "for idx in tqdm.tqdm(range(len(queries_pp)), desc=\"Processing queries\"):\n",
    "    query = queries_pp['question'].iloc[idx]\n",
    "    clean_query = setup.preprocess_text(query)\n",
    "    clean_query = \" \".join(clean_query)\n",
    "    \n",
    "    # Get query embedding\n",
    "    query_embedding = embedder.encode(clean_query, normalize_embeddings=True).astype(\"float32\")   \n",
    "    \n",
    "    # Search the database\n",
    "    output_ = client.search(\n",
    "        collection_name=\"rag_mini\",\n",
    "        data=[query_embedding],\n",
    "        anns_field=\"embedding\",\n",
    "        search_params={\"metric_type\": \"L2\", \"params\": {\"nprobe\": 10}},\n",
    "        output_fields=[\"id\", \"passage\"],\n",
    "        limit=5\n",
    "    )\n",
    "    \n",
    "    # Extract context from search results\n",
    "    context = \"\"\n",
    "    if output_ and len(output_[0]) > 0:\n",
    "        n = min(5, len(output_[0]))\n",
    "        # Get context from the top result\n",
    "        for i in range(n):\n",
    "            c = output_[0][i].entity.get(\"passage\", \"\")\n",
    "            context += \" \" + c\n",
    "        queries_pp.iloc[idx, queries_pp.columns.get_loc('context')].append(context)    \n",
    "    # Create prompt\n",
    "    system_prompt = \"You are “The Meticulous Research Librarian”: cautious, concise, and allergic to speculation. Your style: 1–2 sentence answers, strictly grounded in the given context.  If the context is insufficient, say “I don't know.\"\n",
    "    prompt = f\"{system_prompt} \\n Context: {context} \\n Question: {query}\"\n",
    "    \n",
    "    # Generate answer\n",
    "    inputs = tokenizer(prompt, return_tensors=\"pt\", max_length=512, truncation=True)\n",
    "    outputs = model.generate(**inputs, max_new_tokens=50)\n",
    "    answer = tokenizer.decode(outputs[0], skip_special_tokens=True)\n",
    "    \n",
    "    # Save answer to dataframe\n",
    "    queries_pp.iloc[idx, queries_pp.columns.get_loc('answer_generated')] = answer.lower() \n",
    "\n",
    "# Save the updated dataframe\n",
    "\n",
    "\n",
    "scores_pp = Evaluation.score(queries_pp, id_col=\"id\", pred_col=\"answer_generated\", ref_col=\"answer\")\n",
    "print(scores_pp)"
   ]
  },
  {
   "cell_type": "markdown",
   "metadata": {},
   "source": [
    "# Getting answers using Instruction Prompting"
   ]
  },
  {
   "cell_type": "code",
   "execution_count": 13,
   "metadata": {},
   "outputs": [
    {
     "name": "stderr",
     "output_type": "stream",
     "text": [
      "Processing queries: 100%|██████████| 918/918 [02:44<00:00,  5.59it/s]\n"
     ]
    },
    {
     "name": "stdout",
     "output_type": "stream",
     "text": [
      "{'exact_match': 23.202614379084967, 'f1': 28.720676977318853}\n"
     ]
    }
   ],
   "source": [
    "queries_ip = pd.read_parquet(\"hf://datasets/rag-datasets/rag-mini-wikipedia/data/test.parquet/part.0.parquet\")\n",
    "queries_ip.reset_index(inplace=True)\n",
    "queries_ip.rename(columns={\"index\": \"id\"}, inplace=True)\n",
    "queries_ip['answer_generated'] = ''\n",
    "queries_ip['context'] = list([] for _ in range(len(queries)))\n",
    "\n",
    "\n",
    "# from transformers import AutoTokenizer, AutoModelForSeq2SeqLM\n",
    "# tokenizer = AutoTokenizer.from_pretrained(\"google/flan-t5-base\")\n",
    "# model = AutoModelForSeq2SeqLM.from_pretrained(\"google/flan-t5-base\")\n",
    "tokenizer, model = setup.build_llm(\"google/flan-t5-small\")\n",
    "\n",
    "# Process each question\n",
    "for idx in tqdm.tqdm(range(len(queries_ip)), desc=\"Processing queries\"):\n",
    "    query = queries_ip['question'].iloc[idx]\n",
    "    clean_query = setup.preprocess_text(query)\n",
    "    clean_query = \" \".join(clean_query)\n",
    "    \n",
    "    # Get query embedding\n",
    "    query_embedding = embedder.encode(clean_query, normalize_embeddings=True).astype(\"float32\")   \n",
    "    \n",
    "    # Search the database\n",
    "    output_ = client.search(\n",
    "        collection_name=\"rag_mini\",\n",
    "        data=[query_embedding],\n",
    "        anns_field=\"embedding\",\n",
    "        search_params={\"metric_type\": \"L2\", \"params\": {\"nprobe\": 10}},\n",
    "        output_fields=[\"id\", \"passage\"],\n",
    "        limit=5\n",
    "    )\n",
    "    \n",
    "    # Extract context from search results\n",
    "    context = \"\"\n",
    "    if output_ and len(output_[0]) > 0:\n",
    "        # Get context from the top result\n",
    "        n = min(5, len(output_[0]))\n",
    "        for i in range(n):\n",
    "            c = output_[0][i].entity.get(\"passage\", \"\")\n",
    "            context += \" \" + c\n",
    "        queries_ip.iloc[idx, queries_ip.columns.get_loc('context')].append(context)    \n",
    "    # Create prompt\n",
    "    system_prompt = \"Follow these rules: 1) Use ONLY the provided context to answer the question. 2) If the answer is not in the context, respond exactly with \\\"I don't know\\\". 3) Keep the answer <= 35 words. 4) Include one short evidence quote or passage ID from the context.\"\n",
    "    prompt = f\"{system_prompt} \\n Context: {context} \\n Question: {query}\"\n",
    "    \n",
    "    # Generate answer\n",
    "    inputs = tokenizer(prompt, return_tensors=\"pt\", max_length=512, truncation=True)\n",
    "    outputs = model.generate(**inputs, max_new_tokens=50)\n",
    "    answer = tokenizer.decode(outputs[0], skip_special_tokens=True)\n",
    "    \n",
    "    # Save answer to dataframe\n",
    "    queries_ip.iloc[idx, queries_ip.columns.get_loc('answer_generated')] = answer.lower() \n",
    "\n",
    "# Save the updated dataframe\n",
    "\n",
    "\n",
    "scores_ip = Evaluation.score(queries_ip, id_col=\"id\", pred_col=\"answer_generated\", ref_col=\"answer\")\n",
    "print(scores_ip)"
   ]
  },
  {
   "cell_type": "code",
   "execution_count": 14,
   "metadata": {},
   "outputs": [
    {
     "data": {
      "text/html": [
       "<div>\n",
       "<style scoped>\n",
       "    .dataframe tbody tr th:only-of-type {\n",
       "        vertical-align: middle;\n",
       "    }\n",
       "\n",
       "    .dataframe tbody tr th {\n",
       "        vertical-align: top;\n",
       "    }\n",
       "\n",
       "    .dataframe thead th {\n",
       "        text-align: right;\n",
       "    }\n",
       "</style>\n",
       "<table border=\"1\" class=\"dataframe\">\n",
       "  <thead>\n",
       "    <tr style=\"text-align: right;\">\n",
       "      <th></th>\n",
       "      <th>exact_match</th>\n",
       "      <th>f1</th>\n",
       "    </tr>\n",
       "  </thead>\n",
       "  <tbody>\n",
       "    <tr>\n",
       "      <th>COT</th>\n",
       "      <td>19.50</td>\n",
       "      <td>26.75</td>\n",
       "    </tr>\n",
       "    <tr>\n",
       "      <th>PP</th>\n",
       "      <td>26.69</td>\n",
       "      <td>32.85</td>\n",
       "    </tr>\n",
       "    <tr>\n",
       "      <th>IP</th>\n",
       "      <td>23.20</td>\n",
       "      <td>28.72</td>\n",
       "    </tr>\n",
       "  </tbody>\n",
       "</table>\n",
       "</div>"
      ],
      "text/plain": [
       "     exact_match     f1\n",
       "COT        19.50  26.75\n",
       "PP         26.69  32.85\n",
       "IP         23.20  28.72"
      ]
     },
     "metadata": {},
     "output_type": "display_data"
    },
    {
     "data": {
      "image/png": "[encoded data removed]",
      "text/plain": [
       "<Figure size 900x500 with 1 Axes>"
      ]
     },
     "metadata": {},
     "output_type": "display_data"
    }
   ],
   "source": [
    "scores_list = [\n",
    "    scores_cot,\n",
    "    scores_pp,\n",
    "    scores_ip\n",
    "]\n",
    "labels = [\"COT\", \"PP\", \"IP\"]\n",
    "df = pd.DataFrame(scores_list, index=labels)[[\"exact_match\", \"f1\"]]\n",
    "df = df.round(2)\n",
    "display(df)\n",
    "\n",
    "x = np.arange(len(df))\n",
    "width = 0.35\n",
    "\n",
    "fig, ax = plt.subplots(figsize=(9,5))\n",
    "ax.bar(x - width/2, df[\"exact_match\"].values, width, label=\"Exact Match\")\n",
    "ax.bar(x + width/2, df[\"f1\"].values,       width, label=\"F1 Score\")\n",
    "\n",
    "ax.set_title(\"SQuAD Metrics by Run: Exact Match & F1\")\n",
    "ax.set_ylabel(\"Score (%)\")\n",
    "ax.set_xticks(x)\n",
    "ax.set_xticklabels(df.index)\n",
    "ax.set_ylim(0, 100)\n",
    "ax.legend()\n",
    "\n",
    "\n",
    "for i, v in enumerate(df[\"exact_match\"].values):\n",
    "    ax.text(i - width/2, v + 1, f\"{v:.1f}\", ha=\"center\", va=\"bottom\", fontsize=9)\n",
    "for i, v in enumerate(df[\"f1\"].values):\n",
    "    ax.text(i + width/2, v + 1, f\"{v:.1f}\", ha=\"center\", va=\"bottom\", fontsize=9)\n",
    "\n",
    "plt.tight_layout()\n",
    "plt.show()"
   ]
  },
  {
   "cell_type": "code",
   "execution_count": 15,
   "metadata": {},
   "outputs": [
    {
     "name": "stderr",
     "output_type": "stream",
     "text": [
      "Evaluating:   0%|          | 0/200 [00:00<?, ?it/s]Exception raised in Job[1]: IndexError(list index out of range)\n",
      "Exception raised in Job[13]: IndexError(list index out of range)\n",
      "Exception raised in Job[9]: IndexError(list index out of range)\n",
      "Exception raised in Job[5]: IndexError(list index out of range)\n",
      "Evaluating:   8%|▊         | 16/200 [00:12<02:15,  1.36it/s]Exception raised in Job[29]: IndexError(list index out of range)\n",
      "Evaluating:  12%|█▏        | 23/200 [00:15<01:46,  1.66it/s]Exception raised in Job[25]: IndexError(list index out of range)\n",
      "Evaluating:  12%|█▏        | 24/200 [00:19<03:37,  1.23s/it]Exception raised in Job[37]: IndexError(list index out of range)\n",
      "Evaluating:  20%|█▉        | 39/200 [00:21<00:57,  2.82it/s]Exception raised in Job[45]: IndexError(list index out of range)\n",
      "Evaluating:  22%|██▏       | 44/200 [00:26<01:57,  1.33it/s]Exception raised in Job[49]: IndexError(list index out of range)\n",
      "Exception raised in Job[41]: IndexError(list index out of range)\n",
      "Evaluating:  22%|██▎       | 45/200 [00:27<02:11,  1.18it/s]Exception raised in Job[57]: IndexError(list index out of range)\n",
      "Evaluating:  28%|██▊       | 56/200 [00:31<01:11,  2.03it/s]Exception raised in Job[61]: IndexError(list index out of range)\n",
      "Exception raised in Job[65]: IndexError(list index out of range)\n",
      "Evaluating:  30%|██▉       | 59/200 [00:33<01:16,  1.84it/s]Exception raised in Job[69]: IndexError(list index out of range)\n",
      "Evaluating:  38%|███▊      | 77/200 [00:42<00:54,  2.25it/s]Exception raised in Job[81]: IndexError(list index out of range)\n",
      "Evaluating:  39%|███▉      | 78/200 [00:43<01:02,  1.94it/s]Exception raised in Job[85]: IndexError(list index out of range)\n",
      "Exception raised in Job[89]: IndexError(list index out of range)\n",
      "Evaluating:  42%|████▎     | 85/200 [00:48<01:29,  1.28it/s]Exception raised in Job[93]: IndexError(list index out of range)\n",
      "Evaluating:  46%|████▌     | 91/200 [00:49<00:49,  2.19it/s]Exception raised in Job[97]: IndexError(list index out of range)\n",
      "Evaluating:  52%|█████▎    | 105/200 [00:58<00:46,  2.03it/s]Exception raised in Job[109]: IndexError(list index out of range)\n",
      "Evaluating:  53%|█████▎    | 106/200 [00:59<00:55,  1.69it/s]Exception raised in Job[113]: IndexError(list index out of range)\n",
      "Exception raised in Job[117]: IndexError(list index out of range)\n",
      "Evaluating:  58%|█████▊    | 116/200 [01:03<00:40,  2.06it/s]Exception raised in Job[121]: IndexError(list index out of range)\n",
      "Evaluating:  61%|██████    | 122/200 [01:05<00:29,  2.62it/s]Exception raised in Job[125]: IndexError(list index out of range)\n",
      "Exception raised in Job[129]: IndexError(list index out of range)\n",
      "Evaluating:  62%|██████▏   | 123/200 [01:07<00:49,  1.57it/s]Exception raised in Job[133]: IndexError(list index out of range)\n",
      "Evaluating:  64%|██████▍   | 128/200 [01:10<00:39,  1.82it/s]Exception raised in Job[137]: IndexError(list index out of range)\n",
      "Evaluating:  66%|██████▌   | 132/200 [01:11<00:32,  2.06it/s]Exception raised in Job[141]: IndexError(list index out of range)\n",
      "Evaluating:  70%|███████   | 141/200 [01:14<00:27,  2.13it/s]Exception raised in Job[149]: IndexError(list index out of range)\n",
      "Exception raised in Job[145]: IndexError(list index out of range)\n",
      "Evaluating:  74%|███████▍  | 148/200 [01:17<00:17,  2.96it/s]Exception raised in Job[153]: IndexError(list index out of range)\n",
      "Evaluating:  76%|███████▋  | 153/200 [01:20<00:21,  2.17it/s]Exception raised in Job[157]: IndexError(list index out of range)\n",
      "Exception raised in Job[161]: IndexError(list index out of range)\n",
      "Exception raised in Job[165]: IndexError(list index out of range)\n",
      "Evaluating:  82%|████████▏ | 164/200 [01:25<00:15,  2.39it/s]Exception raised in Job[169]: IndexError(list index out of range)\n",
      "Evaluating:  91%|█████████ | 182/200 [01:37<00:10,  1.77it/s]Exception raised in Job[185]: IndexError(list index out of range)\n",
      "Evaluating:  92%|█████████▎| 185/200 [01:38<00:07,  2.02it/s]Exception raised in Job[189]: IndexError(list index out of range)\n",
      "Exception raised in Job[193]: IndexError(list index out of range)\n",
      "Evaluating:  94%|█████████▎| 187/200 [01:40<00:07,  1.65it/s]Exception raised in Job[197]: IndexError(list index out of range)\n",
      "Evaluating: 100%|██████████| 200/200 [01:44<00:00,  1.91it/s]\n"
     ]
    },
    {
     "name": "stdout",
     "output_type": "stream",
     "text": [
      "{'faithfulness': 0.6467, 'answer_relevancy': 0.5126, 'context_precision': 0.8000, 'context_recall': 0.6600}\n"
     ]
    }
   ],
   "source": [
    "subset = queries_cot.sample(n=50, random_state=42)\n",
    "\n",
    "scores = Evaluation.ragas_scores_df(subset) \n",
    "print(scores)"
   ]
  },
  {
   "cell_type": "code",
   "execution_count": 16,
   "metadata": {},
   "outputs": [
    {
     "name": "stderr",
     "output_type": "stream",
     "text": [
      "Evaluating:   0%|          | 0/200 [00:00<?, ?it/s]Exception raised in Job[5]: IndexError(list index out of range)\n",
      "Evaluating:   0%|          | 1/200 [00:00<02:50,  1.17it/s]Exception raised in Job[1]: IndexError(list index out of range)\n",
      "Exception raised in Job[9]: IndexError(list index out of range)\n",
      "Exception raised in Job[13]: IndexError(list index out of range)\n",
      "Evaluating:   8%|▊         | 15/200 [00:07<01:10,  2.62it/s]Exception raised in Job[25]: IndexError(list index out of range)\n",
      "Evaluating:   8%|▊         | 16/200 [00:09<01:36,  1.90it/s]Exception raised in Job[17]: IndexError(list index out of range)\n",
      "Evaluating:   9%|▉         | 18/200 [00:13<02:52,  1.05it/s]Exception raised in Job[21]: IndexError(list index out of range)\n",
      "Evaluating:  19%|█▉        | 38/200 [00:22<01:29,  1.82it/s]Exception raised in Job[49]: IndexError(list index out of range)\n",
      "Exception raised in Job[45]: IndexError(list index out of range)\n",
      "Evaluating:  22%|██▏       | 44/200 [00:28<01:59,  1.30it/s]Exception raised in Job[57]: IndexError(list index out of range)\n",
      "Evaluating:  28%|██▊       | 55/200 [00:30<01:03,  2.27it/s]Exception raised in Job[61]: IndexError(list index out of range)\n",
      "Evaluating:  32%|███▏      | 64/200 [00:37<01:39,  1.37it/s]Exception raised in Job[73]: IndexError(list index out of range)\n",
      "Evaluating:  34%|███▍      | 68/200 [00:39<01:28,  1.49it/s]Exception raised in Job[65]: IndexError(list index out of range)\n",
      "Evaluating:  36%|███▌      | 72/200 [00:40<01:09,  1.85it/s]Exception raised in Job[77]: IndexError(list index out of range)\n",
      "Evaluating:  40%|████      | 80/200 [00:43<00:55,  2.16it/s]Exception raised in Job[81]: IndexError(list index out of range)\n",
      "Evaluating:  42%|████▏     | 83/200 [00:44<00:42,  2.78it/s]Exception raised in Job[85]: IndexError(list index out of range)\n",
      "Evaluating:  42%|████▏     | 84/200 [00:45<00:53,  2.15it/s]Exception raised in Job[89]: IndexError(list index out of range)\n",
      "Evaluating:  48%|████▊     | 97/200 [00:52<00:42,  2.45it/s]Exception raised in Job[101]: IndexError(list index out of range)\n",
      "Evaluating:  50%|█████     | 100/200 [00:54<00:51,  1.93it/s]Exception raised in Job[105]: IndexError(list index out of range)\n",
      "Evaluating:  51%|█████     | 102/200 [00:55<00:50,  1.96it/s]Exception raised in Job[113]: IndexError(list index out of range)\n",
      "Evaluating:  53%|█████▎    | 106/200 [00:56<00:40,  2.34it/s]Exception raised in Job[117]: IndexError(list index out of range)\n",
      "Exception raised in Job[109]: IndexError(list index out of range)\n",
      "Evaluating:  58%|█████▊    | 116/200 [01:02<00:42,  1.95it/s]Exception raised in Job[121]: IndexError(list index out of range)\n",
      "Evaluating:  60%|██████    | 121/200 [01:03<00:30,  2.62it/s]Exception raised in Job[129]: IndexError(list index out of range)\n",
      "Exception raised in Job[125]: IndexError(list index out of range)\n",
      "Evaluating:  64%|██████▍   | 129/200 [01:09<00:41,  1.71it/s]Exception raised in Job[133]: IndexError(list index out of range)\n",
      "Evaluating:  66%|██████▌   | 132/200 [01:12<00:50,  1.34it/s]Exception raised in Job[145]: IndexError(list index out of range)\n",
      "Evaluating:  70%|███████   | 140/200 [01:13<00:24,  2.48it/s]Exception raised in Job[141]: IndexError(list index out of range)\n",
      "Evaluating:  74%|███████▎  | 147/200 [01:16<00:22,  2.38it/s]Exception raised in Job[149]: IndexError(list index out of range)\n",
      "Exception raised in Job[153]: IndexError(list index out of range)\n",
      "Evaluating:  78%|███████▊  | 155/200 [01:20<00:22,  1.97it/s]Exception raised in Job[157]: IndexError(list index out of range)\n",
      "Exception raised in Job[165]: IndexError(list index out of range)\n",
      "Evaluating:  82%|████████▏ | 164/200 [01:24<00:13,  2.76it/s]Exception raised in Job[169]: IndexError(list index out of range)\n",
      "Evaluating:  84%|████████▍ | 169/200 [01:27<00:14,  2.10it/s]Exception raised in Job[173]: IndexError(list index out of range)\n",
      "Evaluating:  88%|████████▊ | 175/200 [01:29<00:09,  2.62it/s]Exception raised in Job[177]: IndexError(list index out of range)\n",
      "Evaluating:  88%|████████▊ | 176/200 [01:30<00:11,  2.09it/s]Exception raised in Job[181]: IndexError(list index out of range)\n",
      "Evaluating:  99%|█████████▉| 198/200 [01:43<00:00,  2.01it/s]Exception raised in Job[197]: IndexError(list index out of range)\n",
      "Evaluating: 100%|██████████| 200/200 [01:44<00:00,  1.92it/s]\n"
     ]
    },
    {
     "name": "stdout",
     "output_type": "stream",
     "text": [
      "{'faithfulness': 0.4500, 'answer_relevancy': 0.2149, 'context_precision': 0.8000, 'context_recall': 0.6400}\n"
     ]
    }
   ],
   "source": [
    "subset = queries_ip.sample(n=50, random_state=42)\n",
    "\n",
    "scores = Evaluation.ragas_scores_df(subset) \n",
    "print(scores)"
   ]
  },
  {
   "cell_type": "code",
   "execution_count": 17,
   "metadata": {},
   "outputs": [
    {
     "name": "stderr",
     "output_type": "stream",
     "text": [
      "Evaluating:   0%|          | 0/200 [00:00<?, ?it/s]Exception raised in Job[1]: IndexError(list index out of range)\n",
      "Exception raised in Job[13]: IndexError(list index out of range)\n",
      "Exception raised in Job[5]: IndexError(list index out of range)\n",
      "Evaluating:   0%|          | 1/200 [00:03<11:31,  3.48s/it]Exception raised in Job[9]: IndexError(list index out of range)\n",
      "Evaluating:   9%|▉         | 18/200 [00:13<02:45,  1.10it/s]Exception raised in Job[25]: IndexError(list index out of range)\n",
      "Evaluating:  12%|█▎        | 25/200 [00:16<01:42,  1.71it/s]Exception raised in Job[33]: IndexError(list index out of range)\n",
      "Evaluating:  16%|█▋        | 33/200 [00:20<01:41,  1.65it/s]Exception raised in Job[37]: IndexError(list index out of range)\n",
      "Exception raised in Job[41]: IndexError(list index out of range)\n",
      "Evaluating:  18%|█▊        | 37/200 [00:22<01:32,  1.76it/s]Exception raised in Job[45]: IndexError(list index out of range)\n",
      "Evaluating:  22%|██▏       | 43/200 [00:24<01:08,  2.31it/s]Exception raised in Job[49]: IndexError(list index out of range)\n",
      "Evaluating:  32%|███▏      | 63/200 [00:39<02:25,  1.06s/it]Exception raised in Job[73]: IndexError(list index out of range)\n",
      "Evaluating:  34%|███▍      | 69/200 [00:43<01:38,  1.33it/s]Exception raised in Job[81]: IndexError(list index out of range)\n",
      "Evaluating:  43%|████▎     | 86/200 [00:49<00:46,  2.43it/s]Exception raised in Job[85]: IndexError(list index out of range)\n",
      "Evaluating:  44%|████▎     | 87/200 [00:49<00:48,  2.31it/s]Exception raised in Job[89]: IndexError(list index out of range)\n",
      "Evaluating:  45%|████▌     | 90/200 [00:50<00:43,  2.51it/s]Exception raised in Job[97]: IndexError(list index out of range)\n",
      "Evaluating:  46%|████▌     | 91/200 [00:54<01:40,  1.09it/s]Exception raised in Job[93]: IndexError(list index out of range)\n",
      "Evaluating:  49%|████▉     | 98/200 [00:57<01:11,  1.43it/s]Exception raised in Job[105]: IndexError(list index out of range)\n",
      "Evaluating:  53%|█████▎    | 106/200 [00:59<00:34,  2.70it/s]Exception raised in Job[109]: IndexError(list index out of range)\n",
      "Evaluating:  54%|█████▎    | 107/200 [01:00<00:43,  2.14it/s]Exception raised in Job[117]: IndexError(list index out of range)\n",
      "Evaluating:  55%|█████▍    | 109/200 [01:01<00:48,  1.87it/s]Exception raised in Job[121]: IndexError(list index out of range)\n",
      "Evaluating:  58%|█████▊    | 117/200 [01:07<01:00,  1.38it/s]Exception raised in Job[125]: IndexError(list index out of range)\n",
      "Evaluating:  62%|██████▏   | 123/200 [01:09<00:40,  1.89it/s]Exception raised in Job[129]: IndexError(list index out of range)\n",
      "Evaluating:  64%|██████▍   | 129/200 [01:14<00:48,  1.45it/s]Exception raised in Job[141]: IndexError(list index out of range)\n",
      "Evaluating:  68%|██████▊   | 137/200 [01:19<00:43,  1.45it/s]Exception raised in Job[145]: IndexError(list index out of range)\n",
      "Evaluating:  74%|███████▍  | 149/200 [01:23<00:21,  2.33it/s]Exception raised in Job[153]: IndexError(list index out of range)\n",
      "Evaluating:  76%|███████▋  | 153/200 [01:25<00:21,  2.16it/s]Exception raised in Job[157]: IndexError(list index out of range)\n",
      "Exception raised in Job[161]: IndexError(list index out of range)\n",
      "Evaluating:  82%|████████▏ | 164/200 [01:30<00:15,  2.38it/s]Exception raised in Job[165]: IndexError(list index out of range)\n",
      "Evaluating:  88%|████████▊ | 177/200 [01:39<00:12,  1.84it/s]Exception raised in Job[181]: IndexError(list index out of range)\n",
      "Evaluating:  90%|█████████ | 180/200 [01:41<00:10,  1.90it/s]Exception raised in Job[193]: IndexError(list index out of range)\n",
      "Evaluating:  93%|█████████▎| 186/200 [01:44<00:06,  2.17it/s]Exception raised in Job[185]: IndexError(list index out of range)\n",
      "Exception raised in Job[189]: IndexError(list index out of range)\n",
      "Evaluating:  96%|█████████▋| 193/200 [01:46<00:02,  2.73it/s]Exception raised in Job[197]: IndexError(list index out of range)\n",
      "Evaluating: 100%|██████████| 200/200 [01:49<00:00,  1.83it/s]\n"
     ]
    },
    {
     "name": "stdout",
     "output_type": "stream",
     "text": [
      "{'faithfulness': 0.5646, 'answer_relevancy': 0.3788, 'context_precision': 0.8000, 'context_recall': 0.6600}\n"
     ]
    }
   ],
   "source": [
    "subset = queries_pp.sample(n=50, random_state=42)\n",
    "\n",
    "scores = Evaluation.ragas_scores_df(subset)  \n",
    "print(scores)"
   ]
  },
  {
   "cell_type": "code",
   "execution_count": 18,
   "metadata": {},
   "outputs": [],
   "source": [
    "df.to_csv(str(Path.cwd().parent / \"result\")+\"/top5_results.csv\")"
   ]
  },
  {
   "cell_type": "code",
   "execution_count": 19,
   "metadata": {},
   "outputs": [],
   "source": [
    "raga_score = [{'faithfulness': 0.6467, 'answer_relevancy': 0.5126, 'context_precision': 0.8000, 'context_recall': 0.6600},\n",
    "              {'faithfulness': 0.4500, 'answer_relevancy': 0.2149, 'context_precision': 0.8000, 'context_recall': 0.6400},\n",
    "              {'faithfulness': 0.5646, 'answer_relevancy': 0.3788, 'context_precision': 0.8000, 'context_recall': 0.6600}]\n",
    "df_raga = pd.DataFrame(raga_score, index=labels)[[\"faithfulness\", \"answer_relevancy\", \"context_precision\", \"context_recall\"]]\n",
    "df_raga.to_csv(str(Path.cwd().parent / \"result\")+\"/top5_raga_scores.csv\")"
   ]
  },
  {
   "cell_type": "code",
   "execution_count": null,
   "metadata": {},
   "outputs": [],
   "source": []
  }
 ],
 "metadata": {
  "kernelspec": {
   "display_name": "rag2",
   "language": "python",
   "name": "python3"
  },
  "language_info": {
   "codemirror_mode": {
    "name": "ipython",
    "version": 3
   },
   "file_extension": ".py",
   "mimetype": "text/x-python",
   "name": "python",
   "nbconvert_exporter": "python",
   "pygments_lexer": "ipython3",
   "version": "3.13.7"
  }
 },
 "nbformat": 4,
 "nbformat_minor": 2
}
