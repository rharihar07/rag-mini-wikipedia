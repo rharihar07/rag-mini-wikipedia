{
 "cells": [
  {
   "cell_type": "code",
   "execution_count": 1,
   "id": "49fc17bf",
   "metadata": {},
   "outputs": [
    {
     "name": "stderr",
     "output_type": "stream",
     "text": [
      "/opt/anaconda3/envs/rag2/lib/python3.13/site-packages/tqdm/auto.py:21: TqdmWarning: IProgress not found. Please update jupyter and ipywidgets. See https://ipywidgets.readthedocs.io/en/stable/user_install.html\n",
      "  from .autonotebook import tqdm as notebook_tqdm\n"
     ]
    },
    {
     "data": {
      "text/plain": [
       "True"
      ]
     },
     "execution_count": 1,
     "metadata": {},
     "output_type": "execute_result"
    }
   ],
   "source": [
    "# Load all required Libraries\n",
    "import pandas as pd\n",
    "import transformers, torch\n",
    "from transformers import AutoModelForSeq2SeqLM, AutoTokenizer, AutoModelForCausalLM\n",
    "from datasets import Dataset\n",
    "\n",
    "from pymilvus import MilvusClient, FieldSchema, CollectionSchema, DataType\n",
    "\n",
    "from ragas import evaluate\n",
    "from ragas.metrics import (\n",
    "    faithfulness,\n",
    "    answer_relevancy,\n",
    "    context_recall,\n",
    "    context_precision,\n",
    "    answer_correctness\n",
    ")\n",
    "\n",
    "import tqdm as tqdm\n",
    "from sentence_transformers import SentenceTransformer\n",
    "\n",
    "import nltk, re, string\n",
    "from nltk.corpus import stopwords\n",
    "from nltk.tokenize import word_tokenize\n",
    "from collections import Counter\n",
    "from nltk import pos_tag\n",
    "\n",
    "nltk.download(\"punkt\", quiet=True)\n",
    "nltk.download(\"stopwords\", quiet=True)\n",
    "nltk.download(\"punkt_tab\", quiet=True)\n"
   ]
  },
  {
   "cell_type": "markdown",
   "id": "275ab245",
   "metadata": {},
   "source": [
    "# Read Passages from the Datasets and Drop rows if they are NA or empty"
   ]
  },
  {
   "cell_type": "code",
   "execution_count": 2,
   "id": "ff0e11a5",
   "metadata": {},
   "outputs": [
    {
     "name": "stdout",
     "output_type": "stream",
     "text": [
      "(3200, 1)\n"
     ]
    },
    {
     "data": {
      "text/html": [
       "<div>\n",
       "<style scoped>\n",
       "    .dataframe tbody tr th:only-of-type {\n",
       "        vertical-align: middle;\n",
       "    }\n",
       "\n",
       "    .dataframe tbody tr th {\n",
       "        vertical-align: top;\n",
       "    }\n",
       "\n",
       "    .dataframe thead th {\n",
       "        text-align: right;\n",
       "    }\n",
       "</style>\n",
       "<table border=\"1\" class=\"dataframe\">\n",
       "  <thead>\n",
       "    <tr style=\"text-align: right;\">\n",
       "      <th></th>\n",
       "      <th>passage</th>\n",
       "    </tr>\n",
       "    <tr>\n",
       "      <th>id</th>\n",
       "      <th></th>\n",
       "    </tr>\n",
       "  </thead>\n",
       "  <tbody>\n",
       "    <tr>\n",
       "      <th>0</th>\n",
       "      <td>Uruguay (official full name in  ; pron.  , Eas...</td>\n",
       "    </tr>\n",
       "    <tr>\n",
       "      <th>1</th>\n",
       "      <td>It is bordered by Brazil to the north, by Arge...</td>\n",
       "    </tr>\n",
       "    <tr>\n",
       "      <th>2</th>\n",
       "      <td>Montevideo was founded by the Spanish in the e...</td>\n",
       "    </tr>\n",
       "    <tr>\n",
       "      <th>3</th>\n",
       "      <td>The economy is largely based in agriculture (m...</td>\n",
       "    </tr>\n",
       "    <tr>\n",
       "      <th>4</th>\n",
       "      <td>According to Transparency International, Urugu...</td>\n",
       "    </tr>\n",
       "  </tbody>\n",
       "</table>\n",
       "</div>"
      ],
      "text/plain": [
       "                                              passage\n",
       "id                                                   \n",
       "0   Uruguay (official full name in  ; pron.  , Eas...\n",
       "1   It is bordered by Brazil to the north, by Arge...\n",
       "2   Montevideo was founded by the Spanish in the e...\n",
       "3   The economy is largely based in agriculture (m...\n",
       "4   According to Transparency International, Urugu..."
      ]
     },
     "execution_count": 2,
     "metadata": {},
     "output_type": "execute_result"
    }
   ],
   "source": [
    "passages = pd.read_parquet(\"hf://datasets/rag-datasets/rag-mini-wikipedia/data/passages.parquet/part.0.parquet\")\n",
    "\n",
    "print(passages.shape)\n",
    "passages.head()"
   ]
  },
  {
   "cell_type": "code",
   "execution_count": 3,
   "id": "def4c6bc",
   "metadata": {},
   "outputs": [],
   "source": [
    "passages.to_csv('/Users/ritvikhariharan/Desktop/Course Readings/NLX & LLM/rharihar_Assignment2-rag/data/passages.csv', index=False)"
   ]
  },
  {
   "cell_type": "markdown",
   "id": "45249cd2",
   "metadata": {},
   "source": [
    "# Do EDA on the passage dataset\n",
    "- You can try to find the maximum and minimum length of the passages before indexing (just a direction)"
   ]
  },
  {
   "cell_type": "code",
   "execution_count": 4,
   "id": "aa0d0a82",
   "metadata": {},
   "outputs": [
    {
     "name": "stdout",
     "output_type": "stream",
     "text": [
      "Passages shape: (3200, 2)\n",
      "\n",
      "Column names: ['passage', 'passage_len']\n",
      "\n",
      "Missing values:\n",
      "passage        0\n",
      "passage_len    0\n",
      "dtype: int64\n",
      "\n",
      "Passage length (characters):\n",
      "Min: 1\n",
      "Max: 2515\n",
      "Mean: 389.848125\n",
      "Median: 299.0\n"
     ]
    }
   ],
   "source": [
    "# Code for EDA\n",
    "passages['passage_len'] = passages['passage'].str.len()\n",
    "\n",
    "# Basic stats\n",
    "print(\"Passages shape:\", passages.shape)\n",
    "print(\"\\nColumn names:\", passages.columns.tolist())\n",
    "print(\"\\nMissing values:\")\n",
    "print(passages.isnull().sum())\n",
    "\n",
    "print(\"\\nPassage length (characters):\")\n",
    "print(\"Min:\", passages['passage_len'].min())\n",
    "print(\"Max:\", passages['passage_len'].max())\n",
    "print(\"Mean:\", passages['passage_len'].mean())\n",
    "print(\"Median:\", passages['passage_len'].median())"
   ]
  },
  {
   "cell_type": "code",
   "execution_count": 5,
   "id": "3c343fc0",
   "metadata": {},
   "outputs": [
    {
     "name": "stdout",
     "output_type": "stream",
     "text": [
      "\n",
      "Shortest passage:\n",
      " |\n",
      "\n",
      "Longest passage:\n",
      " As Ford approached his ninetieth year, he began to experience significant health problems associated with old age. He suffered two minor strokes at the 2000 Republican National Convention, but made a quick recovery.  Gerald Ford recovering after strokes. BBC, August 2, 2000.  Retrieved on December 31, 2006.  In January 2006, he spent 11 days at the Eisenhower Medical Center near his residence at Rancho Mirage, California, for treatment of pneumonia.  Former President Ford, 92, hospitalized with pneumonia. Associated Press, January 17, 2006. Retrieved on October 19, 2007.  On April 23, President George W. Bush visited Ford at his home in Rancho Mirage for a little over an hour. This was Ford's last public appearance and produced the last known public photos, video footage and voice recording. While vacationing in Vail, Colorado, he was hospitalized for two days in July, 2006 for shortness of breath.  Gerald Ford released from hospital. Associated Press, July 26, 2006. Retrieved on December 31, 2006.  On August 15 Ford was admitted to St. Mary's Hospital of the Mayo Clinic in Rochester, Minnesota for testing and evaluation. On August 21, it was reported that he had been fitted with a pacemaker. On August 25, he underwent an angioplasty procedure at the Mayo Clinic, according to a statement from an assistant to Ford. On August 28, Ford was released from the hospital and returned with his wife Betty to their California home. On October 13, he was scheduled to attend the dedication of a building of his namesake, the Gerald R. Ford School of Public Policy, but due to poor health and on the advice of his doctors he did not attend, much to his personal disappointment. The previous day, on October 12, however, Ford entered the hospital yet again for undisclosed tests at the Eisenhower Medical Center;  Former President Ford in hospital for tests. Associated Press via CNN  he was released on October 16. As a result of his frail health it was announced on October 17 that Ford was considering selling his home near Vail due to the uncertainty as to whether he would be able to return. Those that saw him during the last five months of his life said that he looked frailer than ever and that it appeared his body was slowly failing him, and by November 2006 he was confined to a hospital bed in his study.  CNN Transcript December 26, 2006 11:00PM CST  On November 12, 2006 upon surpassing Ronald Reagan to become the longest lived president in US history he released his last public statement:\n"
     ]
    }
   ],
   "source": [
    "print(\"\\nShortest passage:\\n\", passages.loc[passages['passage_len'].idxmin(), 'passage'])\n",
    "print(\"\\nLongest passage:\\n\", passages.loc[passages['passage_len'].idxmax(), 'passage'])"
   ]
  },
  {
   "cell_type": "code",
   "execution_count": 6,
   "id": "10ff6ca2",
   "metadata": {},
   "outputs": [
    {
     "name": "stdout",
     "output_type": "stream",
     "text": [
      "\n",
      "Passage length (words):\n",
      "Min: 1\n",
      "Max: 425\n",
      "Mean: 62.10375\n",
      "Median: 48.0\n"
     ]
    }
   ],
   "source": [
    "passages['passage_word_count'] = passages['passage'].str.split().apply(len)\n",
    "print(\"\\nPassage length (words):\")\n",
    "print(\"Min:\", passages['passage_word_count'].min())\n",
    "print(\"Max:\", passages['passage_word_count'].max())\n",
    "print(\"Mean:\", passages['passage_word_count'].mean())\n",
    "print(\"Median:\", passages['passage_word_count'].median())"
   ]
  },
  {
   "cell_type": "code",
   "execution_count": 7,
   "id": "f51b9621",
   "metadata": {},
   "outputs": [
    {
     "name": "stdout",
     "output_type": "stream",
     "text": [
      "\n",
      "Shortest passage (words):\n",
      " 125px\n",
      "\n",
      "Longest passage (words):\n",
      " As Ford approached his ninetieth year, he began to experience significant health problems associated with old age. He suffered two minor strokes at the 2000 Republican National Convention, but made a quick recovery.  Gerald Ford recovering after strokes. BBC, August 2, 2000.  Retrieved on December 31, 2006.  In January 2006, he spent 11 days at the Eisenhower Medical Center near his residence at Rancho Mirage, California, for treatment of pneumonia.  Former President Ford, 92, hospitalized with pneumonia. Associated Press, January 17, 2006. Retrieved on October 19, 2007.  On April 23, President George W. Bush visited Ford at his home in Rancho Mirage for a little over an hour. This was Ford's last public appearance and produced the last known public photos, video footage and voice recording. While vacationing in Vail, Colorado, he was hospitalized for two days in July, 2006 for shortness of breath.  Gerald Ford released from hospital. Associated Press, July 26, 2006. Retrieved on December 31, 2006.  On August 15 Ford was admitted to St. Mary's Hospital of the Mayo Clinic in Rochester, Minnesota for testing and evaluation. On August 21, it was reported that he had been fitted with a pacemaker. On August 25, he underwent an angioplasty procedure at the Mayo Clinic, according to a statement from an assistant to Ford. On August 28, Ford was released from the hospital and returned with his wife Betty to their California home. On October 13, he was scheduled to attend the dedication of a building of his namesake, the Gerald R. Ford School of Public Policy, but due to poor health and on the advice of his doctors he did not attend, much to his personal disappointment. The previous day, on October 12, however, Ford entered the hospital yet again for undisclosed tests at the Eisenhower Medical Center;  Former President Ford in hospital for tests. Associated Press via CNN  he was released on October 16. As a result of his frail health it was announced on October 17 that Ford was considering selling his home near Vail due to the uncertainty as to whether he would be able to return. Those that saw him during the last five months of his life said that he looked frailer than ever and that it appeared his body was slowly failing him, and by November 2006 he was confined to a hospital bed in his study.  CNN Transcript December 26, 2006 11:00PM CST  On November 12, 2006 upon surpassing Ronald Reagan to become the longest lived president in US history he released his last public statement:\n"
     ]
    }
   ],
   "source": [
    "print(\"\\nShortest passage (words):\\n\", passages.loc[passages['passage_word_count'].idxmin(), 'passage'])\n",
    "print(\"\\nLongest passage (words):\\n\", passages.loc[passages['passage_word_count'].idxmax(), 'passage'])"
   ]
  },
  {
   "cell_type": "code",
   "execution_count": 8,
   "id": "53b4a482",
   "metadata": {},
   "outputs": [
    {
     "name": "stdout",
     "output_type": "stream",
     "text": [
      "4 duplicate passages found.\n"
     ]
    }
   ],
   "source": [
    "print(passages['passage'].duplicated().sum(), \"duplicate passages found.\")"
   ]
  },
  {
   "cell_type": "code",
   "execution_count": 9,
   "id": "3daa9b59",
   "metadata": {},
   "outputs": [
    {
     "data": {
      "text/plain": [
       "passage\n",
       "; Government                                                                                3\n",
       "* Pratt, H., \"Nikola Tesla 1856 1943\", Proceedings of the IRE, Vol. 44, September, 1956.    2\n",
       "|-                                                                                          2\n",
       "Name: count, dtype: int64"
      ]
     },
     "execution_count": 9,
     "metadata": {},
     "output_type": "execute_result"
    }
   ],
   "source": [
    "duplicate_passages = passages[passages['passage'].duplicated(keep=False)]\n",
    "duplicate_passages.value_counts('passage')"
   ]
  },
  {
   "cell_type": "code",
   "execution_count": 10,
   "id": "5ff23efb",
   "metadata": {},
   "outputs": [],
   "source": [
    "text = ' '.join(passages['passage'].tolist())"
   ]
  },
  {
   "cell_type": "code",
   "execution_count": 11,
   "id": "82222cf4",
   "metadata": {},
   "outputs": [],
   "source": [
    "import nltk, re, string\n",
    "from nltk.corpus import stopwords\n",
    "from nltk.tokenize import word_tokenize\n",
    "\n",
    "nltk.download(\"punkt\", quiet=True)\n",
    "nltk.download(\"stopwords\", quiet=True)\n",
    "nltk.download(\"punkt_tab\", quiet=True)\n",
    "\n",
    "STOP = set(stopwords.words(\"english\"))\n",
    "\n",
    "\n",
    "tokens = word_tokenize(text)\n",
    "\n",
    "# remove stopwords (+ optional: drop punctuation & numbers)\n",
    "clean_tokens = [\n",
    "    t for t in tokens\n",
    "    if t.lower() not in STOP\n",
    "    and t not in string.punctuation\n",
    "    and not re.fullmatch(r\"\\d+(\\.\\d+)?\", t)\n",
    "]"
   ]
  },
  {
   "cell_type": "code",
   "execution_count": 12,
   "id": "b81a5b20",
   "metadata": {},
   "outputs": [
    {
     "name": "stdout",
     "output_type": "stream",
     "text": [
      "Universal POS (coarse):\n",
      "  NOUN : 68592\n",
      "  VERB : 19359\n",
      "   ADJ : 17610\n",
      "   ADV : 5296\n",
      "     . : 2185\n",
      "   NUM : 2089\n",
      "   ADP : 1642\n",
      "   PRT : 1587\n",
      "     X : 227\n",
      "   DET : 150\n",
      "  CONJ : 75\n",
      "  PRON : 51\n",
      "\n",
      "Penn Treebank POS (fine):\n",
      "   NNP : 32917\n",
      "    NN : 24221\n",
      "    JJ : 16780\n",
      "   NNS : 10826\n",
      "   VBD : 7759\n",
      "    RB : 5143\n",
      "   VBG : 3251\n",
      "   VBP : 2663\n",
      "   VBN : 2233\n",
      "    CD : 2089\n",
      "   VBZ : 1663\n",
      "    IN : 1642\n",
      "   POS : 1526\n",
      "    VB : 1139\n",
      "    '' : 1054\n",
      "    `` : 1047\n",
      "    MD : 651\n",
      "  NNPS : 628\n",
      "   JJS : 494\n",
      "   JJR : 336\n",
      "    FW : 226\n",
      "    DT : 144\n",
      "   RBR : 140\n",
      "     : : 79\n",
      "    CC : 75\n",
      "    RP : 61\n",
      "   WP$ : 28\n",
      "   PRP : 13\n",
      "  PRP$ : 9\n",
      "   WRB : 8\n",
      "   WDT : 6\n",
      "     $ : 5\n",
      "   RBS : 5\n",
      "    UH : 1\n",
      "    WP : 1\n"
     ]
    }
   ],
   "source": [
    "from collections import Counter\n",
    "from nltk import pos_tag\n",
    "\n",
    "nltk.download('averaged_perceptron_tagger_eng', quiet=True) \n",
    "nltk.download('universal_tagset', quiet=True)\n",
    "\n",
    "penn_tags = [tag for _, tag in pos_tag(clean_tokens)]\n",
    "univ_tags = [tag for _, tag in pos_tag(clean_tokens, tagset=\"universal\")]\n",
    "\n",
    "penn_counts = Counter(penn_tags)\n",
    "univ_counts = Counter(univ_tags)\n",
    "\n",
    "print(\"Universal POS (coarse):\")\n",
    "for tag, cnt in univ_counts.most_common():\n",
    "    print(f\"{tag:>6} : {cnt}\")\n",
    "\n",
    "print(\"\\nPenn Treebank POS (fine):\")\n",
    "for tag, cnt in penn_counts.most_common():\n",
    "    print(f\"{tag:>6} : {cnt}\")"
   ]
  },
  {
   "cell_type": "markdown",
   "id": "6a6b32f3",
   "metadata": {},
   "source": [
    "# Tokenize Text and Generate Embeddings using Sentence Transformers"
   ]
  },
  {
   "cell_type": "code",
   "execution_count": 13,
   "id": "f7df56d5",
   "metadata": {},
   "outputs": [
    {
     "data": {
      "text/html": [
       "<div>\n",
       "<style scoped>\n",
       "    .dataframe tbody tr th:only-of-type {\n",
       "        vertical-align: middle;\n",
       "    }\n",
       "\n",
       "    .dataframe tbody tr th {\n",
       "        vertical-align: top;\n",
       "    }\n",
       "\n",
       "    .dataframe thead th {\n",
       "        text-align: right;\n",
       "    }\n",
       "</style>\n",
       "<table border=\"1\" class=\"dataframe\">\n",
       "  <thead>\n",
       "    <tr style=\"text-align: right;\">\n",
       "      <th></th>\n",
       "      <th>passage</th>\n",
       "      <th>passage_len</th>\n",
       "      <th>passage_word_count</th>\n",
       "    </tr>\n",
       "    <tr>\n",
       "      <th>id</th>\n",
       "      <th></th>\n",
       "      <th></th>\n",
       "      <th></th>\n",
       "    </tr>\n",
       "  </thead>\n",
       "  <tbody>\n",
       "    <tr>\n",
       "      <th>0</th>\n",
       "      <td>Uruguay (official full name in  ; pron.  , Eas...</td>\n",
       "      <td>250</td>\n",
       "      <td>43</td>\n",
       "    </tr>\n",
       "    <tr>\n",
       "      <th>1</th>\n",
       "      <td>It is bordered by Brazil to the north, by Arge...</td>\n",
       "      <td>349</td>\n",
       "      <td>62</td>\n",
       "    </tr>\n",
       "    <tr>\n",
       "      <th>2</th>\n",
       "      <td>Montevideo was founded by the Spanish in the e...</td>\n",
       "      <td>312</td>\n",
       "      <td>50</td>\n",
       "    </tr>\n",
       "    <tr>\n",
       "      <th>3</th>\n",
       "      <td>The economy is largely based in agriculture (m...</td>\n",
       "      <td>354</td>\n",
       "      <td>58</td>\n",
       "    </tr>\n",
       "    <tr>\n",
       "      <th>4</th>\n",
       "      <td>According to Transparency International, Urugu...</td>\n",
       "      <td>217</td>\n",
       "      <td>30</td>\n",
       "    </tr>\n",
       "  </tbody>\n",
       "</table>\n",
       "</div>"
      ],
      "text/plain": [
       "                                              passage  passage_len  \\\n",
       "id                                                                   \n",
       "0   Uruguay (official full name in  ; pron.  , Eas...          250   \n",
       "1   It is bordered by Brazil to the north, by Arge...          349   \n",
       "2   Montevideo was founded by the Spanish in the e...          312   \n",
       "3   The economy is largely based in agriculture (m...          354   \n",
       "4   According to Transparency International, Urugu...          217   \n",
       "\n",
       "    passage_word_count  \n",
       "id                      \n",
       "0                   43  \n",
       "1                   62  \n",
       "2                   50  \n",
       "3                   58  \n",
       "4                   30  "
      ]
     },
     "execution_count": 13,
     "metadata": {},
     "output_type": "execute_result"
    }
   ],
   "source": [
    "passages.head()"
   ]
  },
  {
   "cell_type": "code",
   "execution_count": 14,
   "id": "e90a336a",
   "metadata": {},
   "outputs": [],
   "source": [
    "import nltk\n",
    "from nltk.stem.wordnet import WordNetLemmatizer \n",
    "from nltk.corpus import wordnet\n",
    "nltk.download(\"stopwords\", quiet = True)\n",
    "nltk.download(\"wordnet\", quiet = True)\n",
    "nltk.download(\"punkt\", quiet = True)\n",
    "nltk.download('averaged_perceptron_tagger', quiet = True)\n",
    "lemmatizer = WordNetLemmatizer()\n",
    "english_stopwords = set(nltk.corpus.stopwords.words('english'))\n",
    "\n",
    "from nltk.tokenize import word_tokenize\n",
    "def clean_text(text):\n",
    "    \"\"\"\n",
    "    Clean the input string by converting it to lowercase, removing 's and apostrophe.\n",
    "    \n",
    "    args:\n",
    "        text (str) : the input text\n",
    "        \n",
    "    return:\n",
    "        str : the cleaned text\n",
    "    \"\"\"\n",
    "    text = text.lower()\n",
    "    text = re.sub(r'<[^>]+>', '', text)\n",
    "    text = re.sub(r'[^\\w\\s]', ' ', text)\n",
    "    text = re.sub(r\"'s\\b\", '', text)\n",
    "    text = text.replace(\"'\",\"\")\n",
    "    text = text.strip()\n",
    "    return text\n",
    "\n",
    "def tokenize(cleaned_text):\n",
    "    \"\"\"\n",
    "    Tokenize the input string.\n",
    "    \n",
    "    args:\n",
    "        cleaned_text (str): the input text, output from clean_text\n",
    "        \n",
    "    return:\n",
    "        List[str] : a list of tokens from the input text\n",
    "    \"\"\"\n",
    "    token = word_tokenize(cleaned_text)\n",
    "    tokens = []\n",
    "    for t in token:\n",
    "        t = re.split(r'[^a-zA-Z0-9]',t)\n",
    "        tokens.extend(t)\n",
    "\n",
    "    tokens = [token for token in tokens if len(token)>1]\n",
    "    return tokens\n",
    "    pass\n",
    "\n",
    "def lemmatize(tokens, stopwords = {}):\n",
    "    \"\"\"\n",
    "    Lemmatize each token in an input list of tokens\n",
    "    \n",
    "    args:\n",
    "        tokens (List[str]) : a list of token, output from tokenize\n",
    "    \n",
    "    kwargs:\n",
    "        stopwords (Set[str]) : the set of stopwords to exclude\n",
    "    \n",
    "    return:\n",
    "        List[str] : a list of lemmatized and filtered tokens\n",
    "    \"\"\"\n",
    "    temp = [nltk.pos_tag(word.split()) for word in tokens] \n",
    "    tem = []\n",
    "    for t in temp:\n",
    "        if t:\n",
    "            t = list(t[0])\n",
    "            if t[1].startswith('J'):\n",
    "                t[1] = wordnet.ADJ\n",
    "            elif t[1].startswith('V'):\n",
    "                t[1] = 'v'\n",
    "            elif t[1].startswith('R'):\n",
    "                t[1] = 'r'  \n",
    "            else:\n",
    "                t[1] = 'n'\n",
    "            tem.append(t)   \n",
    "\n",
    "    #lemm = [lemmatizer.lemmatize(words[0],words[1]) for words in tem if ((words[0] not in stopwords) & (len(words[0]) > 1))]\n",
    "    lemm = [lemmatizer.lemmatize(words[0],words[1]) for words in tem]\n",
    "    lemm = [words for words in lemm if ((words not in stopwords) & (len(words) > 1))]\n",
    "    return lemm\n",
    "\n",
    "    pass\n",
    "\n",
    "def preprocess_text(text, stopwords = english_stopwords):\n",
    "    # do not modify this function\n",
    "    cleaned_text = clean_text(text)\n",
    "    tokens = tokenize(cleaned_text)\n",
    "    # print(lemmatize(tokens, stopwords))\n",
    "    return lemmatize(tokens, stopwords)\n",
    "\n",
    "passages['processed_passage'] = passages['passage'].apply(lambda x: preprocess_text(x))"
   ]
  },
  {
   "cell_type": "code",
   "execution_count": 15,
   "id": "f39adefe",
   "metadata": {},
   "outputs": [
    {
     "data": {
      "text/html": [
       "<div>\n",
       "<style scoped>\n",
       "    .dataframe tbody tr th:only-of-type {\n",
       "        vertical-align: middle;\n",
       "    }\n",
       "\n",
       "    .dataframe tbody tr th {\n",
       "        vertical-align: top;\n",
       "    }\n",
       "\n",
       "    .dataframe thead th {\n",
       "        text-align: right;\n",
       "    }\n",
       "</style>\n",
       "<table border=\"1\" class=\"dataframe\">\n",
       "  <thead>\n",
       "    <tr style=\"text-align: right;\">\n",
       "      <th></th>\n",
       "      <th>id</th>\n",
       "      <th>passage</th>\n",
       "      <th>passage_len</th>\n",
       "      <th>passage_word_count</th>\n",
       "      <th>processed_passage</th>\n",
       "      <th>embedding</th>\n",
       "    </tr>\n",
       "  </thead>\n",
       "  <tbody>\n",
       "    <tr>\n",
       "      <th>0</th>\n",
       "      <td>0</td>\n",
       "      <td>Uruguay (official full name in  ; pron.  , Eas...</td>\n",
       "      <td>250</td>\n",
       "      <td>43</td>\n",
       "      <td>[uruguay, official, full, name, pron, eastern,...</td>\n",
       "      <td>[0.0069853608, -0.06149814, -0.06683705, -0.00...</td>\n",
       "    </tr>\n",
       "    <tr>\n",
       "      <th>1</th>\n",
       "      <td>1</td>\n",
       "      <td>It is bordered by Brazil to the north, by Arge...</td>\n",
       "      <td>349</td>\n",
       "      <td>62</td>\n",
       "      <td>[border, brazil, north, argentina, across, ban...</td>\n",
       "      <td>[0.12249575, -0.04751835, -0.07255241, -0.0070...</td>\n",
       "    </tr>\n",
       "    <tr>\n",
       "      <th>2</th>\n",
       "      <td>2</td>\n",
       "      <td>Montevideo was founded by the Spanish in the e...</td>\n",
       "      <td>312</td>\n",
       "      <td>50</td>\n",
       "      <td>[montevideo, found, spanish, early, 18th, cent...</td>\n",
       "      <td>[-0.03174129, -0.059810296, -0.061128285, -0.0...</td>\n",
       "    </tr>\n",
       "    <tr>\n",
       "      <th>3</th>\n",
       "      <td>3</td>\n",
       "      <td>The economy is largely based in agriculture (m...</td>\n",
       "      <td>354</td>\n",
       "      <td>58</td>\n",
       "      <td>[economy, largely, base, agriculture, make, 10...</td>\n",
       "      <td>[0.050179835, -0.049152985, 0.05018971, 0.0486...</td>\n",
       "    </tr>\n",
       "    <tr>\n",
       "      <th>4</th>\n",
       "      <td>4</td>\n",
       "      <td>According to Transparency International, Urugu...</td>\n",
       "      <td>217</td>\n",
       "      <td>30</td>\n",
       "      <td>[accord, transparency, international, uruguay,...</td>\n",
       "      <td>[0.018462706, -0.0802608, -0.078614995, -0.034...</td>\n",
       "    </tr>\n",
       "  </tbody>\n",
       "</table>\n",
       "</div>"
      ],
      "text/plain": [
       "   id                                            passage  passage_len  \\\n",
       "0   0  Uruguay (official full name in  ; pron.  , Eas...          250   \n",
       "1   1  It is bordered by Brazil to the north, by Arge...          349   \n",
       "2   2  Montevideo was founded by the Spanish in the e...          312   \n",
       "3   3  The economy is largely based in agriculture (m...          354   \n",
       "4   4  According to Transparency International, Urugu...          217   \n",
       "\n",
       "   passage_word_count                                  processed_passage  \\\n",
       "0                  43  [uruguay, official, full, name, pron, eastern,...   \n",
       "1                  62  [border, brazil, north, argentina, across, ban...   \n",
       "2                  50  [montevideo, found, spanish, early, 18th, cent...   \n",
       "3                  58  [economy, largely, base, agriculture, make, 10...   \n",
       "4                  30  [accord, transparency, international, uruguay,...   \n",
       "\n",
       "                                           embedding  \n",
       "0  [0.0069853608, -0.06149814, -0.06683705, -0.00...  \n",
       "1  [0.12249575, -0.04751835, -0.07255241, -0.0070...  \n",
       "2  [-0.03174129, -0.059810296, -0.061128285, -0.0...  \n",
       "3  [0.050179835, -0.049152985, 0.05018971, 0.0486...  \n",
       "4  [0.018462706, -0.0802608, -0.078614995, -0.034...  "
      ]
     },
     "execution_count": 15,
     "metadata": {},
     "output_type": "execute_result"
    }
   ],
   "source": [
    "from sentence_transformers import SentenceTransformer\n",
    "\n",
    "embedding_model = SentenceTransformer(\"all-MiniLM-L6-v2\")\n",
    "\n",
    "# Encode Text\n",
    "passages[\"embedding\"] = (\n",
    "    passages[\"passage\"]\n",
    "    .fillna(\"\")\n",
    "    .astype(str)\n",
    "    .apply(lambda x: embedding_model.encode(x, normalize_embeddings=True).astype(\"float32\"))\n",
    ")\n",
    "\n",
    "passages.reset_index(inplace=True)\n",
    "passages.rename(columns={\"index\": \"id\"}, inplace=True)\n",
    "passages.head()"
   ]
  },
  {
   "cell_type": "code",
   "execution_count": 16,
   "id": "6eaf57cb",
   "metadata": {},
   "outputs": [
    {
     "data": {
      "text/plain": [
       "384"
      ]
     },
     "execution_count": 16,
     "metadata": {},
     "output_type": "execute_result"
    }
   ],
   "source": [
    "dim = passages['embedding'][0].shape[0]\n",
    "dim"
   ]
  },
  {
   "cell_type": "markdown",
   "id": "b354e711",
   "metadata": {},
   "source": [
    "# Create Milvus Client and Insert your Embeddings to your DB\n",
    "- Make sure you define a schema for your collection (Points will be deducted if you fail to define a proper schema with ids, passage text, embedding)"
   ]
  },
  {
   "cell_type": "code",
   "execution_count": 17,
   "id": "64ccfdb8",
   "metadata": {},
   "outputs": [],
   "source": [
    "# Define every column of your schema\n",
    "\n",
    "id = passages['id'].tolist()               \n",
    "passage = passages['passage'].tolist()            \n",
    "embedding = passages['embedding'].tolist()         "
   ]
  },
  {
   "cell_type": "code",
   "execution_count": 18,
   "id": "13b4c62c",
   "metadata": {},
   "outputs": [
    {
     "data": {
      "text/plain": [
       "{'auto_id': False, 'description': '', 'fields': [{'name': 'id', 'description': '', 'type': <DataType.INT64: 5>, 'is_primary': True, 'auto_id': False}, {'name': 'passage', 'description': '', 'type': <DataType.VARCHAR: 21>, 'params': {'max_length': 8000}}, {'name': 'embedding', 'description': '', 'type': <DataType.FLOAT_VECTOR: 101>, 'params': {'dim': 384}}], 'enable_dynamic_field': False}"
      ]
     },
     "execution_count": 18,
     "metadata": {},
     "output_type": "execute_result"
    }
   ],
   "source": [
    "schema = MilvusClient.create_schema()\n",
    "schema.add_field(\n",
    "    field_name=\"id\",\n",
    "    datatype=DataType.INT64,\n",
    "    is_primary=True,\n",
    "    auto_id=False,\n",
    ")\n",
    "schema.add_field(\n",
    "    field_name=\"passage\",\n",
    "    datatype=DataType.VARCHAR,\n",
    "    max_length=8000\n",
    ")\n",
    "schema.add_field(\n",
    "    field_name=\"embedding\",\n",
    "    datatype=DataType.FLOAT_VECTOR,\n",
    "    dim=dim\n",
    ")"
   ]
  },
  {
   "cell_type": "code",
   "execution_count": 19,
   "id": "1ed3c24b",
   "metadata": {},
   "outputs": [
    {
     "name": "stderr",
     "output_type": "stream",
     "text": [
      "huggingface/tokenizers: The current process just got forked, after parallelism has already been used. Disabling parallelism to avoid deadlocks...\n",
      "To disable this warning, you can either:\n",
      "\t- Avoid using `tokenizers` before the fork if possible\n",
      "\t- Explicitly set the environment variable TOKENIZERS_PARALLELISM=(true | false)\n"
     ]
    },
    {
     "name": "stdout",
     "output_type": "stream",
     "text": [
      "<pymilvus.milvus_client.milvus_client.MilvusClient object at 0x30e52f0e0>\n"
     ]
    }
   ],
   "source": [
    "client = MilvusClient(\"rag_wikipedia_mini.db\")\n",
    "\n",
    "print(client)\n",
    "\n",
    "# Create the Collection with Collection Name = \"rag_mini\". Make sure you define the schema variable while creating the collection\n",
    "#collection = client.create_collection(collection_name=\"rag_mini\", schema=schema)"
   ]
  },
  {
   "cell_type": "markdown",
   "id": "190b067a",
   "metadata": {},
   "source": [
    "**Convert your Pandas Dataframe to a list of dictionaries**\n",
    "- The Dictionary at least have 3 keys [id, passage, embedding]"
   ]
  },
  {
   "cell_type": "code",
   "execution_count": 20,
   "id": "9b60520f",
   "metadata": {},
   "outputs": [],
   "source": [
    "rag_data = passages[['id', 'passage', 'embedding']].to_dict(orient='records')"
   ]
  },
  {
   "cell_type": "code",
   "execution_count": 21,
   "id": "9ba91d4b",
   "metadata": {},
   "outputs": [
    {
     "name": "stdout",
     "output_type": "stream",
     "text": [
      "{'insert_count': 3200, 'ids': [0, 1, 2, 3, 4, 5, 6, 7, 8, 9, 10, 11, 12, 13, 14, 15, 16, 17, 18, 19, 20, 21, 22, 23, 24, 25, 26, 27, 28, 29, 30, 31, 32, 33, 34, 35, 36, 37, 38, 39, 40, 41, 42, 43, 44, 45, 46, 47, 48, 49, 50, 51, 52, 53, 54, 55, 56, 57, 58, 59, 60, 61, 62, 63, 64, 65, 66, 67, 68, 69, 70, 71, 72, 73, 74, 75, 76, 77, 78, 79, 80, 81, 82, 83, 84, 85, 86, 87, 88, 89, 90, 91, 92, 93, 94, 95, 96, 97, 98, 99, 100, 101, 102, 103, 104, 105, 106, 107, 108, 109, 110, 111, 112, 113, 114, 115, 116, 117, 118, 119, 120, 121, 122, 123, 124, 125, 126, 127, 128, 129, 130, 131, 132, 133, 134, 135, 136, 137, 138, 139, 140, 141, 142, 143, 144, 145, 146, 147, 148, 149, 150, 151, 152, 153, 154, 155, 156, 157, 158, 159, 160, 161, 162, 163, 164, 165, 166, 167, 168, 169, 170, 171, 172, 173, 174, 175, 176, 177, 178, 179, 180, 181, 182, 183, 184, 185, 186, 187, 188, 189, 190, 191, 192, 193, 194, 195, 196, 197, 198, 199, 200, 201, 202, 203, 204, 205, 206, 207, 208, 209, 210, 211, 212, 213, 214, 215, 216, 217, 218, 219, 220, 221, 222, 223, 224, 225, 226, 227, 228, 229, 230, 231, 232, 233, 234, 235, 236, 237, 238, 239, 240, 241, 242, 243, 244, 245, 246, 247, 248, 249, 250, 251, 252, 253, 254, 255, 256, 257, 258, 259, 260, 261, 262, 263, 264, 265, 266, 267, 268, 269, 270, 271, 272, 273, 274, 275, 276, 277, 278, 279, 280, 281, 282, 283, 284, 285, 286, 287, 288, 289, 290, 291, 292, 293, 294, 295, 296, 297, 298, 299, 300, 301, 302, 303, 304, 305, 306, 307, 308, 309, 310, 311, 312, 313, 314, 315, 316, 317, 318, 319, 320, 321, 322, 323, 324, 325, 326, 327, 328, 329, 330, 331, 332, 333, 334, 335, 336, 337, 338, 339, 340, 341, 342, 343, 344, 345, 346, 347, 348, 349, 350, 351, 352, 353, 354, 355, 356, 357, 358, 359, 360, 361, 362, 363, 364, 365, 366, 367, 368, 369, 370, 371, 372, 373, 374, 375, 376, 377, 378, 379, 380, 381, 382, 383, 384, 385, 386, 387, 388, 389, 390, 391, 392, 393, 394, 395, 396, 397, 398, 399, 400, 401, 402, 403, 404, 405, 406, 407, 408, 409, 410, 411, 412, 413, 414, 415, 416, 417, 418, 419, 420, 421, 422, 423, 424, 425, 426, 427, 428, 429, 430, 431, 432, 433, 434, 435, 436, 437, 438, 439, 440, 441, 442, 443, 444, 445, 446, 447, 448, 449, 450, 451, 452, 453, 454, 455, 456, 457, 458, 459, 460, 461, 462, 463, 464, 465, 466, 467, 468, 469, 470, 471, 472, 473, 474, 475, 476, 477, 478, 479, 480, 481, 482, 483, 484, 485, 486, 487, 488, 489, 490, 491, 492, 493, 494, 495, 496, 497, 498, 499, 500, 501, 502, 503, 504, 505, 506, 507, 508, 509, 510, 511, 512, 513, 514, 515, 516, 517, 518, 519, 520, 521, 522, 523, 524, 525, 526, 527, 528, 529, 530, 531, 532, 533, 534, 535, 536, 537, 538, 539, 540, 541, 542, 543, 544, 545, 546, 547, 548, 549, 550, 551, 552, 553, 554, 555, 556, 557, 558, 559, 560, 561, 562, 563, 564, 565, 566, 567, 568, 569, 570, 571, 572, 573, 574, 575, 576, 577, 578, 579, 580, 581, 582, 583, 584, 585, 586, 587, 588, 589, 590, 591, 592, 593, 594, 595, 596, 597, 598, 599, 600, 601, 602, 603, 604, 605, 606, 607, 608, 609, 610, 611, 612, 613, 614, 615, 616, 617, 618, 619, 620, 621, 622, 623, 624, 625, 626, 627, 628, 629, 630, 631, 632, 633, 634, 635, 636, 637, 638, 639, 640, 641, 642, 643, 644, 645, 646, 647, 648, 649, 650, 651, 652, 653, 654, 655, 656, 657, 658, 659, 660, 661, 662, 663, 664, 665, 666, 667, 668, 669, 670, 671, 672, 673, 674, 675, 676, 677, 678, 679, 680, 681, 682, 683, 684, 685, 686, 687, 688, 689, 690, 691, 692, 693, 695, 696, 697, 698, 699, 700, 701, 702, 703, 704, 705, 706, 707, 708, 709, 710, 711, 712, 713, 714, 715, 716, 717, 718, 719, 720, 721, 722, 723, 724, 725, 726, 727, 728, 729, 730, 731, 732, 733, 734, 735, 736, 737, 738, 739, 740, 741, 742, 743, 744, 745, 746, 747, 748, 749, 750, 751, 752, 753, 754, 755, 756, 757, 758, 759, 760, 761, 762, 763, 764, 765, 766, 767, 768, 769, 770, 771, 772, 773, 774, 775, 776, 777, 778, 779, 780, 781, 782, 783, 784, 785, 786, 787, 788, 789, 790, 791, 792, 793, 794, 795, 796, 797, 798, 799, 800, 801, 802, 803, 804, 805, 806, 807, 808, 809, 810, 811, 812, 813, 814, 815, 816, 817, 818, 819, 820, 821, 822, 823, 824, 825, 826, 827, 828, 829, 830, 831, 832, 833, 834, 835, 836, 837, 838, 839, 840, 841, 842, 843, 844, 845, 846, 847, 848, 849, 850, 851, 852, 853, 854, 855, 856, 857, 858, 859, 860, 861, 862, 863, 864, 865, 866, 867, 868, 869, 870, 871, 872, 873, 874, 875, 876, 877, 878, 879, 880, 881, 882, 883, 884, 885, 886, 887, 888, 889, 890, 891, 892, 893, 894, 895, 896, 897, 898, 899, 900, 901, 902, 903, 904, 905, 906, 907, 908, 909, 910, 911, 912, 913, 914, 915, 916, 917, 918, 919, 920, 921, 922, 923, 924, 925, 926, 927, 928, 929, 930, 931, 932, 933, 934, 935, 936, 937, 938, 939, 940, 941, 942, 943, 944, 945, 946, 947, 948, 949, 950, 951, 952, 953, 954, 955, 956, 957, 958, 959, 960, 961, 962, 963, 964, 965, 966, 967, 968, 969, 970, 971, 972, 973, 974, 975, 976, 977, 978, 979, 980, 981, 982, 983, 984, 985, 986, 987, 988, 989, 990, 991, 992, 993, 994, 995, 996, 997, 998, 999, 1000, 1001, 1002, 1003, 1004, 1005, 1006, 1007, 1008, 1009, 1010, 1011, 1012, 1013, 1014, 1015, 1016, 1017, 1018, 1019, 1020, 1021, 1022, 1023, 1024, 1025, 1026, 1027, 1028, 1029, 1030, 1031, 1032, 1033, 1034, 1035, 1036, 1037, 1038, 1039, 1040, 1041, 1042, 1043, 1044, 1045, 1046, 1047, 1048, 1049, 1050, 1051, 1052, 1053, 1054, 1055, 1056, 1057, 1058, 1059, 1060, 1061, 1062, 1063, 1064, 1065, 1066, 1067, 1068, 1069, 1070, 1071, 1072, 1073, 1074, 1075, 1076, 1077, 1078, 1079, 1080, 1081, 1082, 1083, 1084, 1085, 1086, 1087, 1088, 1089, 1090, 1091, 1092, 1093, 1094, 1095, 1096, 1097, 1098, 1099, 1100, 1101, 1102, 1103, 1104, 1105, 1106, 1107, 1108, 1109, 1110, 1111, 1112, 1113, 1114, 1115, 1116, 1117, 1118, 1119, 1120, 1121, 1122, 1123, 1124, 1125, 1126, 1127, 1128, 1129, 1130, 1131, 1132, 1133, 1134, 1135, 1136, 1137, 1138, 1139, 1140, 1141, 1142, 1143, 1144, 1145, 1146, 1147, 1148, 1149, 1150, 1151, 1152, 1153, 1154, 1155, 1156, 1157, 1158, 1159, 1160, 1161, 1162, 1163, 1164, 1165, 1166, 1167, 1168, 1169, 1170, 1171, 1172, 1173, 1174, 1175, 1176, 1177, 1178, 1179, 1180, 1181, 1182, 1183, 1184, 1185, 1186, 1187, 1188, 1189, 1190, 1191, 1192, 1193, 1194, 1195, 1196, 1197, 1198, 1199, 1200, 1201, 1202, 1203, 1204, 1205, 1206, 1207, 1208, 1209, 1210, 1211, 1212, 1213, 1214, 1215, 1216, 1217, 1218, 1219, 1220, 1221, 1222, 1223, 1224, 1225, 1226, 1227, 1228, 1229, 1230, 1231, 1232, 1233, 1234, 1235, 1236, 1237, 1238, 1239, 1240, 1241, 1242, 1243, 1244, 1245, 1246, 1247, 1248, 1249, 1250, 1251, 1252, 1253, 1254, 1255, 1256, 1257, 1258, 1259, 1260, 1261, 1262, 1263, 1264, 1265, 1266, 1267, 1268, 1269, 1270, 1271, 1272, 1273, 1274, 1275, 1276, 1277, 1278, 1279, 1280, 1281, 1282, 1283, 1284, 1285, 1286, 1287, 1288, 1289, 1290, 1291, 1292, 1293, 1294, 1295, 1296, 1297, 1298, 1299, 1300, 1301, 1302, 1303, 1304, 1305, 1306, 1307, 1308, 1309, 1310, 1311, 1312, 1313, 1314, 1315, 1316, 1317, 1318, 1319, 1320, 1321, 1322, 1323, 1324, 1325, 1326, 1327, 1328, 1329, 1330, 1331, 1332, 1333, 1334, 1335, 1336, 1337, 1338, 1339, 1340, 1341, 1342, 1343, 1344, 1345, 1346, 1347, 1348, 1349, 1350, 1351, 1352, 1353, 1354, 1355, 1356, 1357, 1358, 1359, 1360, 1361, 1362, 1363, 1364, 1365, 1366, 1367, 1368, 1369, 1370, 1371, 1372, 1373, 1374, 1375, 1376, 1377, 1378, 1379, 1380, 1381, 1382, 1383, 1384, 1385, 1386, 1387, 1388, 1389, 1390, 1391, 1392, 1393, 1394, 1395, 1396, 1397, 1398, 1399, 1400, 1401, 1402, 1403, 1404, 1405, 1406, 1407, 1408, 1409, 1410, 1411, 1412, 1413, 1414, 1415, 1416, 1417, 1418, 1419, 1420, 1421, 1422, 1423, 1424, 1425, 1426, 1427, 1428, 1429, 1430, 1431, 1432, 1433, 1434, 1435, 1436, 1437, 1438, 1439, 1440, 1441, 1442, 1443, 1444, 1445, 1446, 1447, 1448, 1449, 1450, 1451, 1452, 1453, 1454, 1455, 1456, 1457, 1458, 1459, 1460, 1461, 1462, 1463, 1464, 1465, 1466, 1467, 1468, 1469, 1470, 1471, 1472, 1473, 1474, 1475, 1476, 1477, 1478, 1479, 1480, 1481, 1482, 1483, 1484, 1485, 1486, 1487, 1488, 1489, 1490, 1491, 1492, 1493, 1494, 1495, 1496, 1497, 1498, 1499, 1500, 1501, 1502, 1503, 1504, 1505, 1506, 1507, 1508, 1509, 1510, 1511, 1512, 1513, 1514, 1515, 1516, 1517, 1518, 1519, 1520, 1521, 1522, 1523, 1524, 1525, 1526, 1527, 1528, 1529, 1530, 1531, 1532, 1533, 1534, 1535, 1536, 1537, 1538, 1539, 1540, 1541, 1542, 1543, 1544, 1545, 1546, 1547, 1548, 1549, 1550, 1551, 1552, 1553, 1554, 1555, 1556, 1557, 1558, 1559, 1560, 1561, 1562, 1563, 1564, 1565, 1566, 1567, 1568, 1569, 1570, 1571, 1572, 1573, 1574, 1575, 1576, 1577, 1578, 1579, 1580, 1581, 1582, 1583, 1584, 1585, 1586, 1587, 1588, 1589, 1590, 1591, 1592, 1593, 1594, 1595, 1596, 1597, 1598, 1599, 1600, 1601, 1602, 1603, 1604, 1605, 1606, 1607, 1608, 1609, 1610, 1611, 1612, 1613, 1614, 1615, 1616, 1617, 1618, 1619, 1620, 1621, 1622, 1623, 1624, 1625, 1626, 1627, 1628, 1629, 1630, 1631, 1632, 1633, 1634, 1635, 1636, 1637, 1638, 1639, 1640, 1641, 1642, 1643, 1644, 1645, 1646, 1647, 1648, 1649, 1650, 1651, 1652, 1653, 1654, 1655, 1656, 1657, 1658, 1659, 1660, 1661, 1662, 1663, 1664, 1665, 1666, 1667, 1668, 1669, 1670, 1671, 1672, 1673, 1674, 1675, 1676, 1677, 1678, 1679, 1680, 1681, 1682, 1683, 1684, 1685, 1686, 1687, 1688, 1689, 1690, 1691, 1692, 1693, 1694, 1695, 1696, 1697, 1698, 1699, 1700, 1701, 1702, 1703, 1704, 1705, 1706, 1707, 1708, 1709, 1710, 1711, 1712, 1713, 1714, 1715, 1716, 1717, 1718, 1719, 1720, 1721, 1722, 1723, 1724, 1725, 1726, 1727, 1728, 1729, 1730, 1731, 1732, 1733, 1734, 1735, 1736, 1737, 1738, 1739, 1740, 1741, 1742, 1743, 1744, 1745, 1746, 1747, 1748, 1749, 1750, 1751, 1752, 1753, 1754, 1755, 1756, 1757, 1758, 1759, 1760, 1761, 1762, 1763, 1764, 1765, 1766, 1767, 1768, 1769, 1770, 1771, 1772, 1773, 1774, 1775, 1776, 1777, 1778, 1779, 1780, 1781, 1782, 1783, 1784, 1785, 1786, 1787, 1788, 1789, 1790, 1791, 1792, 1793, 1794, 1795, 1796, 1797, 1798, 1799, 1800, 1801, 1802, 1803, 1804, 1805, 1806, 1807, 1808, 1809, 1810, 1811, 1812, 1813, 1814, 1815, 1816, 1817, 1818, 1819, 1820, 1821, 1822, 1823, 1824, 1825, 1826, 1827, 1828, 1829, 1830, 1831, 1832, 1833, 1834, 1835, 1836, 1837, 1838, 1839, 1840, 1841, 1842, 1843, 1844, 1845, 1846, 1847, 1848, 1849, 1850, 1851, 1852, 1853, 1854, 1855, 1856, 1857, 1858, 1859, 1860, 1861, 1862, 1863, 1864, 1865, 1866, 1867, 1868, 1869, 1870, 1871, 1872, 1873, 1874, 1875, 1876, 1877, 1878, 1879, 1880, 1881, 1882, 1883, 1884, 1885, 1886, 1887, 1888, 1889, 1890, 1891, 1892, 1893, 1894, 1895, 1896, 1897, 1898, 1899, 1900, 1901, 1902, 1903, 1904, 1905, 1906, 1907, 1908, 1909, 1910, 1911, 1912, 1913, 1914, 1915, 1916, 1917, 1918, 1919, 1920, 1921, 1922, 1923, 1924, 1925, 1926, 1927, 1928, 1929, 1930, 1931, 1932, 1933, 1934, 1935, 1936, 1937, 1938, 1939, 1940, 1941, 1942, 1943, 1944, 1945, 1946, 1947, 1948, 1949, 1950, 1951, 1952, 1953, 1954, 1955, 1956, 1957, 1958, 1959, 1960, 1961, 1962, 1963, 1964, 1965, 1966, 1967, 1968, 1969, 1970, 1971, 1972, 1973, 1974, 1975, 1976, 1977, 1978, 1979, 1980, 1981, 1982, 1983, 1984, 1985, 1986, 1987, 1988, 1989, 1990, 1991, 1992, 1993, 1994, 1995, 1996, 1997, 1998, 1999, 2000, 2001, 2002, 2003, 2004, 2005, 2006, 2007, 2008, 2009, 2010, 2011, 2012, 2013, 2014, 2015, 2016, 2017, 2018, 2019, 2020, 2021, 2022, 2023, 2024, 2025, 2026, 2027, 2028, 2029, 2030, 2031, 2032, 2033, 2034, 2035, 2036, 2037, 2038, 2039, 2040, 2041, 2042, 2043, 2044, 2045, 2046, 2047, 2048, 2049, 2050, 2051, 2052, 2053, 2054, 2055, 2056, 2057, 2058, 2059, 2060, 2061, 2062, 2063, 2064, 2065, 2066, 2067, 2068, 2069, 2070, 2071, 2072, 2073, 2074, 2075, 2076, 2077, 2078, 2079, 2080, 2081, 2082, 2083, 2084, 2085, 2086, 2087, 2088, 2089, 2090, 2091, 2092, 2093, 2094, 2095, 2096, 2097, 2098, 2099, 2100, 2101, 2102, 2103, 2104, 2105, 2106, 2107, 2108, 2109, 2110, 2111, 2112, 2113, 2114, 2115, 2116, 2117, 2118, 2119, 2120, 2121, 2122, 2123, 2124, 2125, 2126, 2127, 2128, 2129, 2130, 2131, 2132, 2133, 2134, 2135, 2136, 2137, 2138, 2139, 2140, 2141, 2142, 2143, 2144, 2145, 2146, 2147, 2148, 2149, 2150, 2151, 2152, 2153, 2154, 2155, 2156, 2157, 2158, 2159, 2160, 2161, 2162, 2163, 2164, 2165, 2166, 2167, 2168, 2169, 2170, 2171, 2172, 2173, 2174, 2175, 2176, 2177, 2178, 2179, 2180, 2181, 2182, 2183, 2184, 2185, 2186, 2187, 2188, 2189, 2190, 2191, 2192, 2193, 2194, 2195, 2196, 2197, 2198, 2199, 2200, 2201, 2202, 2203, 2204, 2205, 2206, 2207, 2208, 2209, 2210, 2211, 2212, 2213, 2214, 2215, 2216, 2217, 2218, 2219, 2220, 2221, 2222, 2223, 2224, 2225, 2226, 2227, 2228, 2229, 2230, 2231, 2232, 2233, 2234, 2235, 2236, 2237, 2238, 2239, 2240, 2241, 2242, 2243, 2244, 2245, 2246, 2247, 2248, 2249, 2250, 2251, 2252, 2253, 2254, 2255, 2256, 2257, 2258, 2259, 2260, 2261, 2262, 2263, 2264, 2265, 2266, 2267, 2268, 2269, 2270, 2271, 2272, 2273, 2274, 2275, 2276, 2277, 2278, 2279, 2280, 2281, 2282, 2283, 2284, 2285, 2286, 2287, 2288, 2289, 2290, 2291, 2292, 2293, 2294, 2295, 2296, 2297, 2298, 2299, 2300, 2301, 2302, 2303, 2304, 2305, 2306, 2307, 2308, 2309, 2310, 2311, 2312, 2313, 2314, 2315, 2316, 2317, 2318, 2319, 2320, 2321, 2322, 2323, 2324, 2325, 2326, 2327, 2328, 2329, 2330, 2331, 2332, 2333, 2334, 2335, 2336, 2337, 2338, 2339, 2340, 2341, 2342, 2343, 2344, 2345, 2346, 2347, 2348, 2349, 2350, 2351, 2352, 2353, 2354, 2355, 2356, 2357, 2358, 2359, 2360, 2361, 2362, 2363, 2364, 2365, 2366, 2367, 2368, 2369, 2370, 2371, 2372, 2373, 2374, 2375, 2376, 2377, 2378, 2379, 2380, 2381, 2382, 2383, 2384, 2385, 2386, 2387, 2388, 2389, 2390, 2391, 2392, 2393, 2394, 2395, 2396, 2397, 2398, 2399, 2400, 2401, 2402, 2403, 2404, 2405, 2406, 2407, 2408, 2409, 2410, 2411, 2412, 2413, 2414, 2415, 2416, 2417, 2418, 2419, 2420, 2421, 2422, 2423, 2424, 2425, 2426, 2427, 2428, 2429, 2430, 2431, 2432, 2433, 2434, 2435, 2436, 2437, 2438, 2439, 2440, 2441, 2442, 2443, 2444, 2445, 2446, 2447, 2448, 2449, 2450, 2451, 2452, 2453, 2454, 2455, 2456, 2457, 2458, 2459, 2460, 2461, 2462, 2463, 2464, 2465, 2466, 2467, 2468, 2469, 2470, 2471, 2472, 2473, 2474, 2475, 2476, 2477, 2478, 2479, 2480, 2481, 2482, 2483, 2484, 2485, 2486, 2487, 2488, 2489, 2490, 2491, 2492, 2493, 2494, 2495, 2496, 2497, 2498, 2499, 2500, 2501, 2502, 2503, 2504, 2505, 2506, 2507, 2508, 2509, 2510, 2511, 2512, 2513, 2514, 2515, 2516, 2517, 2518, 2519, 2520, 2521, 2522, 2523, 2524, 2525, 2526, 2527, 2528, 2529, 2530, 2531, 2532, 2533, 2534, 2535, 2536, 2537, 2538, 2539, 2540, 2541, 2542, 2543, 2544, 2545, 2546, 2547, 2548, 2549, 2550, 2551, 2552, 2553, 2554, 2555, 2556, 2557, 2558, 2559, 2560, 2561, 2562, 2563, 2564, 2565, 2566, 2567, 2568, 2569, 2570, 2571, 2572, 2573, 2574, 2575, 2576, 2577, 2578, 2579, 2580, 2581, 2582, 2583, 2584, 2585, 2586, 2587, 2588, 2589, 2590, 2591, 2592, 2593, 2594, 2595, 2596, 2597, 2598, 2599, 2600, 2601, 2602, 2603, 2604, 2605, 2606, 2607, 2608, 2609, 2610, 2611, 2612, 2613, 2614, 2615, 2616, 2617, 2618, 2619, 2620, 2621, 2622, 2623, 2624, 2625, 2626, 2627, 2628, 2629, 2630, 2631, 2632, 2633, 2634, 2635, 2636, 2637, 2638, 2639, 2640, 2641, 2642, 2643, 2644, 2645, 2646, 2647, 2648, 2649, 2650, 2651, 2652, 2653, 2654, 2655, 2656, 2657, 2658, 2659, 2660, 2661, 2662, 2663, 2664, 2665, 2666, 2667, 2668, 2669, 2670, 2671, 2672, 2673, 2674, 2675, 2676, 2677, 2678, 2679, 2680, 2681, 2682, 2683, 2684, 2685, 2686, 2687, 2688, 2689, 2690, 2691, 2692, 2693, 2694, 2695, 2696, 2697, 2698, 2699, 2700, 2701, 2702, 2703, 2704, 2705, 2706, 2707, 2708, 2709, 2710, 2711, 2712, 2713, 2714, 2715, 2716, 2717, 2718, 2719, 2720, 2721, 2722, 2723, 2724, 2725, 2726, 2727, 2728, 2729, 2730, 2731, 2732, 2733, 2734, 2735, 2736, 2737, 2738, 2739, 2740, 2741, 2742, 2743, 2744, 2745, 2746, 2747, 2748, 2749, 2750, 2751, 2752, 2753, 2754, 2755, 2756, 2757, 2758, 2759, 2760, 2761, 2762, 2763, 2764, 2765, 2766, 2767, 2768, 2769, 2770, 2771, 2772, 2773, 2774, 2775, 2776, 2777, 2778, 2779, 2780, 2781, 2782, 2783, 2784, 2785, 2786, 2787, 2788, 2789, 2790, 2791, 2792, 2793, 2794, 2795, 2796, 2797, 2798, 2799, 2800, 2801, 2802, 2803, 2804, 2805, 2806, 2807, 2808, 2809, 2810, 2811, 2812, 2813, 2814, 2815, 2816, 2817, 2818, 2819, 2820, 2821, 2822, 2823, 2824, 2825, 2826, 2827, 2828, 2829, 2830, 2831, 2832, 2833, 2834, 2835, 2836, 2837, 2838, 2839, 2840, 2841, 2842, 2843, 2844, 2845, 2846, 2847, 2848, 2849, 2850, 2851, 2852, 2853, 2854, 2855, 2856, 2857, 2858, 2859, 2860, 2861, 2862, 2863, 2864, 2865, 2866, 2867, 2868, 2869, 2870, 2871, 2872, 2873, 2874, 2875, 2876, 2877, 2878, 2879, 2880, 2881, 2882, 2883, 2884, 2885, 2886, 2887, 2888, 2889, 2890, 2891, 2892, 2893, 2894, 2895, 2896, 2897, 2898, 2899, 2900, 2901, 2902, 2903, 2904, 2905, 2906, 2907, 2908, 2909, 2910, 2911, 2912, 2913, 2914, 2915, 2916, 2917, 2918, 2919, 2920, 2921, 2922, 2923, 2924, 2925, 2926, 2927, 2928, 2929, 2930, 2931, 2932, 2933, 2934, 2935, 2936, 2937, 2938, 2939, 2940, 2941, 2942, 2943, 2944, 2945, 2946, 2947, 2948, 2949, 2950, 2951, 2952, 2953, 2954, 2955, 2956, 2957, 2958, 2959, 2960, 2961, 2962, 2963, 2964, 2965, 2966, 2967, 2968, 2969, 2970, 2971, 2972, 2973, 2974, 2975, 2976, 2977, 2978, 2979, 2980, 2981, 2982, 2983, 2984, 2985, 2986, 2987, 2988, 2989, 2990, 2991, 2992, 2993, 2994, 2995, 2996, 2997, 2998, 2999, 3000, 3001, 3002, 3003, 3004, 3005, 3006, 3007, 3008, 3009, 3010, 3011, 3012, 3013, 3014, 3015, 3016, 3017, 3018, 3019, 3020, 3021, 3022, 3023, 3024, 3025, 3026, 3027, 3028, 3029, 3030, 3031, 3032, 3033, 3034, 3035, 3036, 3037, 3038, 3039, 3040, 3041, 3042, 3043, 3044, 3045, 3046, 3047, 3048, 3049, 3050, 3051, 3052, 3053, 3054, 3055, 3056, 3057, 3058, 3059, 3060, 3061, 3062, 3063, 3064, 3065, 3066, 3067, 3068, 3069, 3070, 3071, 3072, 3073, 3074, 3075, 3076, 3077, 3078, 3079, 3080, 3081, 3082, 3083, 3084, 3085, 3086, 3087, 3088, 3089, 3090, 3091, 3092, 3093, 3094, 3095, 3096, 3097, 3098, 3099, 3100, 3101, 3102, 3103, 3104, 3105, 3106, 3107, 3108, 3109, 3110, 3111, 3112, 3113, 3114, 3115, 3116, 3117, 3118, 3119, 3120, 3121, 3122, 3123, 3124, 3125, 3126, 3127, 3128, 3129, 3130, 3131, 3132, 3133, 3134, 3135, 3136, 3137, 3138, 3139, 3140, 3141, 3142, 3143, 3144, 3145, 3146, 3147, 3148, 3149, 3150, 3151, 3152, 3153, 3154, 3155, 3156, 3157, 3158, 3159, 3160, 3161, 3162, 3163, 3164, 3165, 3166, 3167, 3168, 3169, 3170, 3171, 3172, 3173, 3174, 3175, 3176, 3177, 3178, 3179, 3180, 3181, 3182, 3183, 3184, 3185, 3186, 3187, 3188, 3189, 3190, 3191, 3192, 3193, 3194, 3195, 3196, 3197, 3198, 3199, 3200]}\n"
     ]
    }
   ],
   "source": [
    "# Code to insert the data to your DB\n",
    "#client.create_collection(collection_name=\"rag_mini\", schema=schema)\n",
    "res = client.insert(collection_name=\"rag_mini\", data=rag_data)\n",
    "\n",
    "print(res)"
   ]
  },
  {
   "cell_type": "markdown",
   "id": "7bba2a1a",
   "metadata": {
    "vscode": {
     "languageId": "bat"
    }
   },
   "source": [
    "- Do a Sanity Check on your database \n",
    "\n",
    "**Do not delete the below line during your submission**"
   ]
  },
  {
   "cell_type": "code",
   "execution_count": 22,
   "id": "8e73b817",
   "metadata": {},
   "outputs": [
    {
     "name": "stdout",
     "output_type": "stream",
     "text": [
      "Entity count: 12800\n",
      "Collection schema: {'collection_name': 'rag_mini', 'auto_id': False, 'num_shards': 0, 'description': '', 'fields': [{'field_id': 100, 'name': 'id', 'description': '', 'type': <DataType.INT64: 5>, 'params': {}, 'is_primary': True}, {'field_id': 101, 'name': 'passage', 'description': '', 'type': <DataType.VARCHAR: 21>, 'params': {'max_length': 8000}}, {'field_id': 102, 'name': 'embedding', 'description': '', 'type': <DataType.FLOAT_VECTOR: 101>, 'params': {'dim': 384}}], 'functions': [], 'aliases': [], 'collection_id': 0, 'consistency_level': 0, 'properties': {}, 'num_partitions': 0, 'enable_dynamic_field': False}\n"
     ]
    }
   ],
   "source": [
    "print(\"Entity count:\", client.get_collection_stats(\"rag_mini\")[\"row_count\"])\n",
    "print(\"Collection schema:\", client.describe_collection(\"rag_mini\"))"
   ]
  },
  {
   "cell_type": "markdown",
   "id": "e87920ab",
   "metadata": {},
   "source": [
    "# Steps to Fetch Results\n",
    "- Read the Question Dataset\n",
    "- Clean the Question Dataset if necessary (Drop Questions with NaN etc.)\n",
    "- Convert Each Query to a Vector Embedding (Use the same embedding model you used to embed your document)\n",
    "- Try for a Single Question First\n",
    "- Load Collection into Memory after creating Index for Search on your embedding field (This is an essential step before you can search in your db)\n",
    "- Search and Fetch Top N Results"
   ]
  },
  {
   "cell_type": "code",
   "execution_count": 23,
   "id": "da659821",
   "metadata": {},
   "outputs": [
    {
     "data": {
      "text/html": [
       "<div>\n",
       "<style scoped>\n",
       "    .dataframe tbody tr th:only-of-type {\n",
       "        vertical-align: middle;\n",
       "    }\n",
       "\n",
       "    .dataframe tbody tr th {\n",
       "        vertical-align: top;\n",
       "    }\n",
       "\n",
       "    .dataframe thead th {\n",
       "        text-align: right;\n",
       "    }\n",
       "</style>\n",
       "<table border=\"1\" class=\"dataframe\">\n",
       "  <thead>\n",
       "    <tr style=\"text-align: right;\">\n",
       "      <th></th>\n",
       "      <th>question</th>\n",
       "      <th>answer</th>\n",
       "    </tr>\n",
       "    <tr>\n",
       "      <th>id</th>\n",
       "      <th></th>\n",
       "      <th></th>\n",
       "    </tr>\n",
       "  </thead>\n",
       "  <tbody>\n",
       "    <tr>\n",
       "      <th>0</th>\n",
       "      <td>Was Abraham Lincoln the sixteenth President of...</td>\n",
       "      <td>yes</td>\n",
       "    </tr>\n",
       "    <tr>\n",
       "      <th>2</th>\n",
       "      <td>Did Lincoln sign the National Banking Act of 1...</td>\n",
       "      <td>yes</td>\n",
       "    </tr>\n",
       "    <tr>\n",
       "      <th>4</th>\n",
       "      <td>Did his mother die of pneumonia?</td>\n",
       "      <td>no</td>\n",
       "    </tr>\n",
       "    <tr>\n",
       "      <th>6</th>\n",
       "      <td>How many long was Lincoln's formal education?</td>\n",
       "      <td>18 months</td>\n",
       "    </tr>\n",
       "    <tr>\n",
       "      <th>8</th>\n",
       "      <td>When did Lincoln begin his political career?</td>\n",
       "      <td>1832</td>\n",
       "    </tr>\n",
       "    <tr>\n",
       "      <th>...</th>\n",
       "      <td>...</td>\n",
       "      <td>...</td>\n",
       "    </tr>\n",
       "    <tr>\n",
       "      <th>1710</th>\n",
       "      <td>Was Wilson president of the American Political...</td>\n",
       "      <td>Yes</td>\n",
       "    </tr>\n",
       "    <tr>\n",
       "      <th>1711</th>\n",
       "      <td>Did he not cast his ballot for John M. Palmer ...</td>\n",
       "      <td>Yes</td>\n",
       "    </tr>\n",
       "    <tr>\n",
       "      <th>1712</th>\n",
       "      <td>Did Wilson not spend 1914 through the beginnin...</td>\n",
       "      <td>Yes</td>\n",
       "    </tr>\n",
       "    <tr>\n",
       "      <th>1713</th>\n",
       "      <td>Was Wilson , a staunch opponent of antisemitis...</td>\n",
       "      <td>Yes</td>\n",
       "    </tr>\n",
       "    <tr>\n",
       "      <th>1714</th>\n",
       "      <td>What happened in 1917?</td>\n",
       "      <td>raised billions through Liberty loans, imposed...</td>\n",
       "    </tr>\n",
       "  </tbody>\n",
       "</table>\n",
       "<p>918 rows × 2 columns</p>\n",
       "</div>"
      ],
      "text/plain": [
       "                                               question  \\\n",
       "id                                                        \n",
       "0     Was Abraham Lincoln the sixteenth President of...   \n",
       "2     Did Lincoln sign the National Banking Act of 1...   \n",
       "4                      Did his mother die of pneumonia?   \n",
       "6         How many long was Lincoln's formal education?   \n",
       "8          When did Lincoln begin his political career?   \n",
       "...                                                 ...   \n",
       "1710  Was Wilson president of the American Political...   \n",
       "1711  Did he not cast his ballot for John M. Palmer ...   \n",
       "1712  Did Wilson not spend 1914 through the beginnin...   \n",
       "1713  Was Wilson , a staunch opponent of antisemitis...   \n",
       "1714                             What happened in 1917?   \n",
       "\n",
       "                                                 answer  \n",
       "id                                                       \n",
       "0                                                   yes  \n",
       "2                                                   yes  \n",
       "4                                                    no  \n",
       "6                                             18 months  \n",
       "8                                                  1832  \n",
       "...                                                 ...  \n",
       "1710                                                Yes  \n",
       "1711                                                Yes  \n",
       "1712                                                Yes  \n",
       "1713                                                Yes  \n",
       "1714  raised billions through Liberty loans, imposed...  \n",
       "\n",
       "[918 rows x 2 columns]"
      ]
     },
     "execution_count": 23,
     "metadata": {},
     "output_type": "execute_result"
    }
   ],
   "source": [
    "import pandas as pd\n",
    "\n",
    "queries = pd.read_parquet(\"hf://datasets/rag-datasets/rag-mini-wikipedia/data/test.parquet/part.0.parquet\")\n",
    "queries"
   ]
  },
  {
   "cell_type": "code",
   "execution_count": 24,
   "id": "849c5762",
   "metadata": {},
   "outputs": [
    {
     "name": "stdout",
     "output_type": "stream",
     "text": [
      "Was Abraham Lincoln the sixteenth President of the United States?\n",
      "(384,)\n"
     ]
    }
   ],
   "source": [
    "query = queries['question'][0]\n",
    "print(query)                 # Your single query\n",
    "\n",
    "query_embedding = embedding_model.encode(query, normalize_embeddings=True).astype(\"float32\")   \n",
    "\n",
    "print(query_embedding.shape)"
   ]
  },
  {
   "cell_type": "markdown",
   "id": "b43c1383",
   "metadata": {},
   "source": [
    "#### Create Index on the embedding column on your DB"
   ]
  },
  {
   "cell_type": "code",
   "execution_count": 25,
   "id": "22563d43",
   "metadata": {},
   "outputs": [
    {
     "name": "stdout",
     "output_type": "stream",
     "text": [
      "Index created successfully\n",
      "Collection loaded into memory\n"
     ]
    }
   ],
   "source": [
    "index_params = MilvusClient.prepare_index_params()\n",
    "\n",
    "# Add an index on the embedding field\n",
    "index_params.add_index(\n",
    "    field_name=\"embedding\",\n",
    "    index_type=\"IVF_FLAT\",\n",
    "    metric_type= \"L2\",\n",
    "    params = {\"nlist\": 128,}\n",
    ")\n",
    "\n",
    "# Create the index\n",
    "try:\n",
    "    client.create_index(\"rag_mini\", index_params=index_params)\n",
    "    print(\"Index created successfully\")\n",
    "except Exception as e:\n",
    "    print(f\"Index creation result: {e}\")\n",
    "\n",
    "# Load collection into memory (required for search)\n",
    "client.load_collection(\"rag_mini\")\n",
    "print(\"Collection loaded into memory\")"
   ]
  },
  {
   "cell_type": "code",
   "execution_count": 26,
   "id": "664364e0",
   "metadata": {},
   "outputs": [
    {
     "name": "stdout",
     "output_type": "stream",
     "text": [
      "data: [[{'id': 288, 'distance': 0.5809625387191772, 'entity': {'id': 288, 'passage': 'Young Abraham Lincoln'}}, {'id': 278, 'distance': 0.8319282531738281, 'entity': {'id': 278, 'passage': 'Abraham Lincoln (February 12, 1809 â\\x80\\x93 April 15, 1865) was the sixteenth President of the United States, serving from March 4, 1861 until his assassination. As an outspoken opponent of the expansion of slavery in the United States, \"[I]n his short autobiography written for the 1860 presidential campaign, Lincoln would describe his protest in the Illinois legislature as one that \\'briefly defined his position on the slavery question, and so far as it goes, it was then the same that it is now.\" This was in reference to the anti-expansion sentiments he had then expressed. Doris Kearns Goodwin, Team of Rivals: The Political Genius of Abraham Lincoln (2005) p. 91.  Holzer pg. 232.  Writing of the Cooper Union  speech, Holzer notes, \"Cooper Union proved a unique confluence of political culture, rhetorical opportunity, technological innovation, and human genius, and it brought Abraham Lincoln to the center stage of American politics at precisely the right time and place, and with precisely the right message: that slavery was wrong, and ought to be confined to the areas where it already existed, and placed on the \\'course of ultimate extinction... .\\'\"  Lincoln won the Republican Party nomination in 1860 and was elected president later that year. During his term, he helped preserve the United States by leading the defeat of the secessionist Confederate States of America in the American Civil War. He introduced measures that resulted in the abolition of slavery, issuing his Emancipation Proclamation in 1863 and promoting the passage of the Thirteenth Amendment to the Constitution in 1865.'}}, {'id': 698, 'distance': 0.8862441778182983, 'entity': {'id': 698, 'passage': 'Sixteen months before his death, his son, John Quincy Adams, became the sixth President of the United States (1825 1829), the only son of a former President to hold the office until George W. Bush in 2001.'}}]]\n"
     ]
    }
   ],
   "source": [
    "# Search the db with your query embedding\n",
    "output_ = client.search(\n",
    "    collection_name=\"rag_mini\",\n",
    "    data=[query_embedding],\n",
    "    anns_field= \"embedding\",\n",
    "    search_params={\"metric_type\": \"L2\", \"params\": {\"nprobe\": 10}},\n",
    "    output_fields=[\"id\", \"passage\"]\n",
    ")\n",
    "\n",
    "print(output_)"
   ]
  },
  {
   "cell_type": "markdown",
   "id": "bcfe7a24",
   "metadata": {},
   "source": [
    "## Now get the Context \n",
    "- Initially use the first passage ONLY as your context\n",
    "- In Later Experiments, you must try at least 2 different passage selection strategies (Top 3 / Top 5 / Top 10) and pass to your prompt"
   ]
  },
  {
   "cell_type": "code",
   "execution_count": 27,
   "id": "6eea31d1",
   "metadata": {},
   "outputs": [
    {
     "name": "stdout",
     "output_type": "stream",
     "text": [
      "Abraham Lincoln (February 12, 1809 â April 15, 1865) was the sixteenth President of the United States, serving from March 4, 1861 until his assassination. As an outspoken opponent of the expansion of slavery in the United States, \"[I]n his short autobiography written for the 1860 presidential campaign, Lincoln would describe his protest in the Illinois legislature as one that 'briefly defined his position on the slavery question, and so far as it goes, it was then the same that it is now.\" This was in reference to the anti-expansion sentiments he had then expressed. Doris Kearns Goodwin, Team of Rivals: The Political Genius of Abraham Lincoln (2005) p. 91.  Holzer pg. 232.  Writing of the Cooper Union  speech, Holzer notes, \"Cooper Union proved a unique confluence of political culture, rhetorical opportunity, technological innovation, and human genius, and it brought Abraham Lincoln to the center stage of American politics at precisely the right time and place, and with precisely the right message: that slavery was wrong, and ought to be confined to the areas where it already existed, and placed on the 'course of ultimate extinction... .'\"  Lincoln won the Republican Party nomination in 1860 and was elected president later that year. During his term, he helped preserve the United States by leading the defeat of the secessionist Confederate States of America in the American Civil War. He introduced measures that resulted in the abolition of slavery, issuing his Emancipation Proclamation in 1863 and promoting the passage of the Thirteenth Amendment to the Constitution in 1865.\n"
     ]
    }
   ],
   "source": [
    "context = output_[0][1].entity.get(\"passage\")\n",
    "print(context)"
   ]
  },
  {
   "cell_type": "markdown",
   "id": "6d3b68ab",
   "metadata": {},
   "source": [
    "**Develop your Prompt**"
   ]
  },
  {
   "cell_type": "code",
   "execution_count": 28,
   "id": "ca4674fc",
   "metadata": {},
   "outputs": [
    {
     "name": "stdout",
     "output_type": "stream",
     "text": [
      "You are a knowledgeable assistant. Use the provided context to answer the question accurately and concisely. If the context does not contain the answer, respond with 'I don't know'. \n",
      " Context: Abraham Lincoln (February 12, 1809 â April 15, 1865) was the sixteenth President of the United States, serving from March 4, 1861 until his assassination. As an outspoken opponent of the expansion of slavery in the United States, \"[I]n his short autobiography written for the 1860 presidential campaign, Lincoln would describe his protest in the Illinois legislature as one that 'briefly defined his position on the slavery question, and so far as it goes, it was then the same that it is now.\" This was in reference to the anti-expansion sentiments he had then expressed. Doris Kearns Goodwin, Team of Rivals: The Political Genius of Abraham Lincoln (2005) p. 91.  Holzer pg. 232.  Writing of the Cooper Union  speech, Holzer notes, \"Cooper Union proved a unique confluence of political culture, rhetorical opportunity, technological innovation, and human genius, and it brought Abraham Lincoln to the center stage of American politics at precisely the right time and place, and with precisely the right message: that slavery was wrong, and ought to be confined to the areas where it already existed, and placed on the 'course of ultimate extinction... .'\"  Lincoln won the Republican Party nomination in 1860 and was elected president later that year. During his term, he helped preserve the United States by leading the defeat of the secessionist Confederate States of America in the American Civil War. He introduced measures that resulted in the abolition of slavery, issuing his Emancipation Proclamation in 1863 and promoting the passage of the Thirteenth Amendment to the Constitution in 1865.: \n",
      " Question: Was Abraham Lincoln the sixteenth President of the United States? \n"
     ]
    }
   ],
   "source": [
    "system_prompt = f\"You are a knowledgeable assistant. Use the provided context to answer the question accurately and concisely. If the context does not contain the answer, respond with 'I don't know'.\"\n",
    "\n",
    "prompt = f\"\"\"{system_prompt} \\n Context: {context}: \\n Question: {query} \"\"\"\n",
    "print(prompt)"
   ]
  },
  {
   "cell_type": "markdown",
   "id": "dd7bb4e9",
   "metadata": {},
   "source": [
    "# RAG Response for a Single Query"
   ]
  },
  {
   "cell_type": "code",
   "execution_count": 29,
   "id": "eadd108f",
   "metadata": {},
   "outputs": [],
   "source": [
    "# Load the LLM Model you want to use\n",
    "# Load model directly\n",
    "#from transformers import AutoTokenizer, AutoModelForSeq2SeqLM\n",
    "\n",
    "tokenizer = AutoTokenizer.from_pretrained(\"google/flan-t5-base\")\n",
    "model = AutoModelForSeq2SeqLM.from_pretrained(\"google/flan-t5-base\")"
   ]
  },
  {
   "cell_type": "code",
   "execution_count": 30,
   "id": "8dff0c0a",
   "metadata": {},
   "outputs": [
    {
     "name": "stdout",
     "output_type": "stream",
     "text": [
      "Answer: Yes\n"
     ]
    }
   ],
   "source": [
    "# Generate answer\n",
    "inputs = tokenizer(prompt, return_tensors=\"pt\", max_length=512, truncation=True)\n",
    " \n",
    "outputs = model.generate(**inputs, max_new_tokens=50)\n",
    "\n",
    "# Decode and extract answer.\n",
    "answer = tokenizer.decode(outputs[0], skip_special_tokens=True)\n",
    "print(\"Answer:\", answer)"
   ]
  },
  {
   "cell_type": "markdown",
   "id": "9023b43c",
   "metadata": {},
   "source": [
    "# Generate Responses for all the Queries in the Dataset"
   ]
  },
  {
   "cell_type": "code",
   "execution_count": 31,
   "id": "b0f6ad59",
   "metadata": {},
   "outputs": [
    {
     "data": {
      "text/html": [
       "<div>\n",
       "<style scoped>\n",
       "    .dataframe tbody tr th:only-of-type {\n",
       "        vertical-align: middle;\n",
       "    }\n",
       "\n",
       "    .dataframe tbody tr th {\n",
       "        vertical-align: top;\n",
       "    }\n",
       "\n",
       "    .dataframe thead th {\n",
       "        text-align: right;\n",
       "    }\n",
       "</style>\n",
       "<table border=\"1\" class=\"dataframe\">\n",
       "  <thead>\n",
       "    <tr style=\"text-align: right;\">\n",
       "      <th></th>\n",
       "      <th>question</th>\n",
       "      <th>answer</th>\n",
       "    </tr>\n",
       "    <tr>\n",
       "      <th>id</th>\n",
       "      <th></th>\n",
       "      <th></th>\n",
       "    </tr>\n",
       "  </thead>\n",
       "  <tbody>\n",
       "    <tr>\n",
       "      <th>0</th>\n",
       "      <td>Was Abraham Lincoln the sixteenth President of...</td>\n",
       "      <td>yes</td>\n",
       "    </tr>\n",
       "    <tr>\n",
       "      <th>2</th>\n",
       "      <td>Did Lincoln sign the National Banking Act of 1...</td>\n",
       "      <td>yes</td>\n",
       "    </tr>\n",
       "    <tr>\n",
       "      <th>4</th>\n",
       "      <td>Did his mother die of pneumonia?</td>\n",
       "      <td>no</td>\n",
       "    </tr>\n",
       "    <tr>\n",
       "      <th>6</th>\n",
       "      <td>How many long was Lincoln's formal education?</td>\n",
       "      <td>18 months</td>\n",
       "    </tr>\n",
       "    <tr>\n",
       "      <th>8</th>\n",
       "      <td>When did Lincoln begin his political career?</td>\n",
       "      <td>1832</td>\n",
       "    </tr>\n",
       "  </tbody>\n",
       "</table>\n",
       "</div>"
      ],
      "text/plain": [
       "                                             question     answer\n",
       "id                                                              \n",
       "0   Was Abraham Lincoln the sixteenth President of...        yes\n",
       "2   Did Lincoln sign the National Banking Act of 1...        yes\n",
       "4                    Did his mother die of pneumonia?         no\n",
       "6       How many long was Lincoln's formal education?  18 months\n",
       "8        When did Lincoln begin his political career?       1832"
      ]
     },
     "execution_count": 31,
     "metadata": {},
     "output_type": "execute_result"
    }
   ],
   "source": [
    "queries.head()"
   ]
  },
  {
   "cell_type": "code",
   "execution_count": 32,
   "id": "9cc262ea",
   "metadata": {},
   "outputs": [
    {
     "name": "stderr",
     "output_type": "stream",
     "text": [
      "Processing queries: 100%|██████████| 918/918 [03:48<00:00,  4.01it/s]\n"
     ]
    },
    {
     "data": {
      "text/html": [
       "<div>\n",
       "<style scoped>\n",
       "    .dataframe tbody tr th:only-of-type {\n",
       "        vertical-align: middle;\n",
       "    }\n",
       "\n",
       "    .dataframe tbody tr th {\n",
       "        vertical-align: top;\n",
       "    }\n",
       "\n",
       "    .dataframe thead th {\n",
       "        text-align: right;\n",
       "    }\n",
       "</style>\n",
       "<table border=\"1\" class=\"dataframe\">\n",
       "  <thead>\n",
       "    <tr style=\"text-align: right;\">\n",
       "      <th></th>\n",
       "      <th>question</th>\n",
       "      <th>answer</th>\n",
       "      <th>answer_generated</th>\n",
       "      <th>context</th>\n",
       "    </tr>\n",
       "    <tr>\n",
       "      <th>id</th>\n",
       "      <th></th>\n",
       "      <th></th>\n",
       "      <th></th>\n",
       "      <th></th>\n",
       "    </tr>\n",
       "  </thead>\n",
       "  <tbody>\n",
       "    <tr>\n",
       "      <th>0</th>\n",
       "      <td>Was Abraham Lincoln the sixteenth President of...</td>\n",
       "      <td>yes</td>\n",
       "      <td>Yes.</td>\n",
       "      <td>[Young Abraham Lincoln]</td>\n",
       "    </tr>\n",
       "    <tr>\n",
       "      <th>2</th>\n",
       "      <td>Did Lincoln sign the National Banking Act of 1...</td>\n",
       "      <td>yes</td>\n",
       "      <td>Yes</td>\n",
       "      <td>[Lincoln believed in the Whig theory of the pr...</td>\n",
       "    </tr>\n",
       "    <tr>\n",
       "      <th>4</th>\n",
       "      <td>Did his mother die of pneumonia?</td>\n",
       "      <td>no</td>\n",
       "      <td>I don't know</td>\n",
       "      <td>[An autopsy performed after his death revealed...</td>\n",
       "    </tr>\n",
       "    <tr>\n",
       "      <th>6</th>\n",
       "      <td>How many long was Lincoln's formal education?</td>\n",
       "      <td>18 months</td>\n",
       "      <td>18 months</td>\n",
       "      <td>[Lincoln's formal education consisted of about...</td>\n",
       "    </tr>\n",
       "    <tr>\n",
       "      <th>8</th>\n",
       "      <td>When did Lincoln begin his political career?</td>\n",
       "      <td>1832</td>\n",
       "      <td>1832</td>\n",
       "      <td>[Lincoln began his political career in 1832, a...</td>\n",
       "    </tr>\n",
       "  </tbody>\n",
       "</table>\n",
       "</div>"
      ],
      "text/plain": [
       "                                             question     answer  \\\n",
       "id                                                                 \n",
       "0   Was Abraham Lincoln the sixteenth President of...        yes   \n",
       "2   Did Lincoln sign the National Banking Act of 1...        yes   \n",
       "4                    Did his mother die of pneumonia?         no   \n",
       "6       How many long was Lincoln's formal education?  18 months   \n",
       "8        When did Lincoln begin his political career?       1832   \n",
       "\n",
       "   answer_generated                                            context  \n",
       "id                                                                      \n",
       "0              Yes.                            [Young Abraham Lincoln]  \n",
       "2               Yes  [Lincoln believed in the Whig theory of the pr...  \n",
       "4      I don't know  [An autopsy performed after his death revealed...  \n",
       "6         18 months  [Lincoln's formal education consisted of about...  \n",
       "8              1832  [Lincoln began his political career in 1832, a...  "
      ]
     },
     "execution_count": 32,
     "metadata": {},
     "output_type": "execute_result"
    }
   ],
   "source": [
    "# Your Code Here\n",
    "import pandas as pd\n",
    "from tqdm import tqdm  # For progress bar\n",
    "\n",
    "queries = pd.read_parquet(\"hf://datasets/rag-datasets/rag-mini-wikipedia/data/test.parquet/part.0.parquet\")\n",
    "\n",
    "# Create a new column for answers\n",
    "queries['answer_generated'] = ''\n",
    "queries['context'] = list([] for _ in range(len(queries)))\n",
    "\n",
    "# Load model once (outside the loop for efficiency)\n",
    "from transformers import AutoTokenizer, AutoModelForSeq2SeqLM\n",
    "tokenizer = AutoTokenizer.from_pretrained(\"google/flan-t5-base\")\n",
    "model = AutoModelForSeq2SeqLM.from_pretrained(\"google/flan-t5-base\")\n",
    "\n",
    "# Process each question\n",
    "for idx in tqdm(range(len(queries)), desc=\"Processing queries\"):\n",
    "    query = queries['question'].iloc[idx]\n",
    "    \n",
    "    # Get query embedding\n",
    "    query_embedding = embedding_model.encode(query, normalize_embeddings=True).astype(\"float32\")   \n",
    "    \n",
    "    # Search the database\n",
    "    output_ = client.search(\n",
    "        collection_name=\"rag_mini\",\n",
    "        data=[query_embedding],\n",
    "        anns_field=\"embedding\",\n",
    "        search_params={\"metric_type\": \"L2\", \"params\": {\"nprobe\": 10}},\n",
    "        output_fields=[\"id\", \"passage\"],\n",
    "        limit=5\n",
    "    )\n",
    "    \n",
    "    # Extract context from search results\n",
    "    context = \"\"\n",
    "    if output_ and len(output_[0]) > 0:\n",
    "        # Get context from the top result\n",
    "        context = output_[0][0].entity.get(\"passage\", \"\")\n",
    "        queries.iloc[idx, queries.columns.get_loc('context')].append(context)    \n",
    "    # Create prompt\n",
    "    system_prompt = \"You are a knowledgeable assistant. Use the provided context to answer the question accurately and concisely. If the context does not contain the answer, respond with 'I don't know'.\"\n",
    "    prompt = f\"{system_prompt} \\n Context: {context} \\n Question: {query}\"\n",
    "    \n",
    "    # Generate answer\n",
    "    inputs = tokenizer(prompt, return_tensors=\"pt\", max_length=512, truncation=True)\n",
    "    outputs = model.generate(**inputs, max_new_tokens=50)\n",
    "    answer = tokenizer.decode(outputs[0], skip_special_tokens=True)\n",
    "    \n",
    "    # Save answer to dataframe\n",
    "    queries.iloc[idx, queries.columns.get_loc('answer_generated')] = answer \n",
    "\n",
    "# Save the updated dataframe\n",
    "queries.head()"
   ]
  },
  {
   "cell_type": "markdown",
   "id": "60c1b77e",
   "metadata": {},
   "source": [
    "# Finding out the Basic QA Metrics (F1 score, EM score)"
   ]
  },
  {
   "cell_type": "code",
   "execution_count": 33,
   "id": "2afaaaf5",
   "metadata": {},
   "outputs": [
    {
     "name": "stdout",
     "output_type": "stream",
     "text": [
      "Exact Match (EM) Score: 0.1547\n",
      "F1 Score: 0.2291\n"
     ]
    }
   ],
   "source": [
    "# Your code Here\n",
    "#from sklearn.metrics import f1_score\n",
    "import numpy as np\n",
    "\n",
    "def compute_exact_match(predictions, references):\n",
    "    \"\"\"Calculate Exact Match score\"\"\"\n",
    "    em_scores = []\n",
    "    for pred, ref in zip(predictions, references):\n",
    "        em_scores.append(1.0 if pred == ref else 0.0)\n",
    "    return np.mean(em_scores)\n",
    "\n",
    "def compute_f1(predictions, references):\n",
    "    \"\"\"Calculate F1 score\"\"\"\n",
    "    f1_scores = []\n",
    "    for pred, ref in zip(predictions, references):\n",
    "        pred_tokens = pred.split()\n",
    "        ref_tokens = ref.split()\n",
    "        common = set(pred_tokens) & set(ref_tokens)\n",
    "        num_common = len(common)\n",
    "        \n",
    "        if num_common == 0:\n",
    "            f1_scores.append(0.0)\n",
    "            continue\n",
    "        \n",
    "        precision = num_common / len(pred_tokens)\n",
    "        recall = num_common / len(ref_tokens)\n",
    "        f1 = (2 * precision * recall) / (precision + recall)\n",
    "        f1_scores.append(f1)\n",
    "    \n",
    "    return np.mean(f1_scores)\n",
    "\n",
    "predictions = queries['answer_generated'].tolist()\n",
    "references = queries['answer'].tolist()\n",
    "\n",
    "em_score = compute_exact_match(predictions, references)\n",
    "f1_score_value = compute_f1(predictions, references)\n",
    "\n",
    "print(f\"Exact Match (EM) Score: {em_score:.4f}\")\n",
    "print(f\"F1 Score: {f1_score_value:.4f}\")\n"
   ]
  },
  {
   "cell_type": "markdown",
   "id": "cef21cbf",
   "metadata": {},
   "source": [
    "# Advanced Evaluation using RAGAs"
   ]
  },
  {
   "cell_type": "code",
   "execution_count": 34,
   "id": "46e75b9d",
   "metadata": {},
   "outputs": [],
   "source": [
    "data = {\n",
    "    \"question\": queries['question'].tolist() ,                     # Question\n",
    "    \"answer\": queries['answer_generated'].tolist() ,                       # Generated Answer\n",
    "    \"contexts\": queries['context'].tolist() ,                     # Context you pass in. You can just use top-1 here\n",
    "    \"ground_truths\": queries['answer'].tolist(),\n",
    "    \"reference\": queries['answer'].tolist()\n",
    "}\n",
    "\n",
    "# Convert dict to dataset\n",
    "dataset = Dataset.from_dict(data)"
   ]
  },
  {
   "cell_type": "code",
   "execution_count": 35,
   "id": "32f0a271",
   "metadata": {},
   "outputs": [],
   "source": [
    "# # Pass the dataset above to the evaluate method in RAGAs\n",
    "# # Your code here\n",
    "# from transformers import AutoTokenizer, AutoModelForSeq2SeqLM, pipeline\n",
    "# from langchain_huggingface import HuggingFacePipeline, HuggingFaceEmbeddings\n",
    "\n",
    "# tok = AutoTokenizer.from_pretrained(\"google/flan-t5-base\")\n",
    "# mdl = AutoModelForSeq2SeqLM.from_pretrained(\"google/flan-t5-base\")\n",
    "\n",
    "# gen_pipe = pipeline(\n",
    "#     task=\"text2text-generation\",\n",
    "#     model=mdl,\n",
    "#     tokenizer=tok,\n",
    "#     # set device_map=\"auto\" if you have GPU; remove if CPU-only\n",
    "#     device_map=\"auto\",\n",
    "#     max_new_tokens=256,\n",
    "# )\n",
    "# lc_llm = HuggingFacePipeline(pipeline=gen_pipe)\n",
    "\n",
    "# # 2) Embeddings (Sentence-Transformers) via LangChain\n",
    "# #    Use the model you already used for RAG: all-MiniLM-L6-v2\n",
    "# emb = HuggingFaceEmbeddings(model_name=\"sentence-transformers/all-MiniLM-L6-v2\")\n",
    "\n",
    "# # 3) Wire into RAGAs\n",
    "# #from ragas import settings\n",
    "# # from ragas.llms import LangchainLLM\n",
    "# # from ragas.embeddings import LangchainEmbeddings\n",
    "\n",
    "# # llm_wrapper = LangchainLLM(lc_llm)\n",
    "# # emb_wrapper = LangchainEmbeddings(emb)\n",
    "\n",
    "# # 4) Choose metrics and evaluate\n",
    "# from ragas import evaluate\n",
    "# from ragas.metrics import (\n",
    "#     answer_relevancy,\n",
    "#     faithfulness,\n",
    "#     context_precision,\n",
    "#     context_recall,\n",
    "#     # answer_correctness,      # enable if you also provide strong references\n",
    "#     # context_relevancy,       # available in some versions\n",
    "# )\n",
    "\n",
    "# metrics = [\n",
    "#     answer_relevancy,\n",
    "#     faithfulness,\n",
    "#     context_precision,\n",
    "#     context_recall,\n",
    "# ]\n",
    "\n",
    "# # `dataset` must already exist from your previous cell:\n",
    "# # columns required: question (str), answer (str),\n",
    "# # contexts (list[str]), and ground_truths (list[str]) OR reference\n",
    "# result = evaluate(dataset, metrics=metrics, llm=lc_llm, embeddings=emb)\n",
    "\n",
    "# print(\"Aggregate scores:\\n\", result.scores)\n",
    "# df_scores = result.to_pandas()\n",
    "# df_scores.head()\n"
   ]
  },
  {
   "cell_type": "code",
   "execution_count": null,
   "id": "b31524b9",
   "metadata": {},
   "outputs": [],
   "source": []
  },
  {
   "cell_type": "code",
   "execution_count": null,
   "id": "432bee24",
   "metadata": {},
   "outputs": [],
   "source": []
  }
 ],
 "metadata": {
  "kernelspec": {
   "display_name": "LLMs",
   "language": "python",
   "name": "python3"
  },
  "language_info": {
   "codemirror_mode": {
    "name": "ipython",
    "version": 3
   },
   "file_extension": ".py",
   "mimetype": "text/x-python",
   "name": "python",
   "nbconvert_exporter": "python",
   "pygments_lexer": "ipython3",
   "version": "3.13.7"
  }
 },
 "nbformat": 4,
 "nbformat_minor": 5
}
